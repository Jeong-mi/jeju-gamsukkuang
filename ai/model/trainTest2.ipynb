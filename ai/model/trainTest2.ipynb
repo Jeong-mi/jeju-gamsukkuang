{
 "cells": [
  {
   "cell_type": "markdown",
   "metadata": {},
   "source": [
    "## ResNet50"
   ]
  },
  {
   "cell_type": "code",
   "execution_count": null,
   "metadata": {},
   "outputs": [],
   "source": [
    "from keras.preprocessing.image import ImageDataGenerator\n",
    "\n",
    "\n",
    "from keras.utils import np_utils\n",
    "from keras.models import Sequential\n",
    "from keras.layers import *\n",
    "from keras.callbacks import ModelCheckpoint, EarlyStopping\n",
    "from tensorflow.keras.applications import ResNet50\n",
    "\n",
    "import os\n",
    "import pandas as pd\n",
    "import numpy as np\n",
    "\n",
    "import matplotlib.pyplot as plt\n",
    "\n",
    "import datetime\n",
    "\n",
    "from sklearn.metrics import accuracy_score"
   ]
  },
  {
   "cell_type": "code",
   "execution_count": null,
   "metadata": {},
   "outputs": [],
   "source": [
    "trainImagePath = '../dataSet/splitImages/train'\n",
    "validationImagePath = '../dataSet/splitImages/val'\n",
    "testImagePath = '../dataSet/splitImages/test'\n",
    "checkpointPath = '../checkpoints/epoch_{epoch:04d}.ckpt'\n",
    "logsPath = '../logs/fit/'+datetime.datetime.now().strftime(\"%Y%m%d-%H%M%S\")\n",
    "bestCheckpointPath = '../model/best/best_model'\n",
    "\n",
    "batchSize = 64\n",
    "imageWidth = 224\n",
    "imageHeight = 224\n",
    "imageChannel = 3\n"
   ]
  },
  {
   "cell_type": "markdown",
   "metadata": {},
   "source": [
    "### 이미지 데이터 생성"
   ]
  },
  {
   "cell_type": "markdown",
   "metadata": {},
   "source": [
    "ImageDataGenerator (train, validation)"
   ]
  },
  {
   "cell_type": "code",
   "execution_count": null,
   "metadata": {},
   "outputs": [],
   "source": [
    "trainDataGen = ImageDataGenerator(rescale=1./255,\n",
    "                                  rotation_range = 30,\n",
    "                                  width_shift_range=0.1,\n",
    "                                  height_shift_range=0.1,\n",
    "                                  shear_range=20,\n",
    "                                  zoom_range=0.3,\n",
    "                                  horizontal_flip=False,\n",
    "                                  vertical_flip=False,\n",
    "                                  brightness_range=[0.7, 1.3],\n",
    "                                  fill_mode='nearest',\n",
    "                                  )"
   ]
  },
  {
   "cell_type": "markdown",
   "metadata": {},
   "source": [
    "train set"
   ]
  },
  {
   "cell_type": "code",
   "execution_count": null,
   "metadata": {},
   "outputs": [],
   "source": [
    "trainGenSet = trainDataGen.flow_from_directory(\n",
    "    trainImagePath,\n",
    "    batch_size=batchSize,\n",
    "    target_size=(imageWidth,imageHeight),\n",
    "    class_mode='categorical',\n",
    "    shuffle=True\n",
    ")"
   ]
  },
  {
   "cell_type": "markdown",
   "metadata": {},
   "source": [
    "validation set"
   ]
  },
  {
   "cell_type": "code",
   "execution_count": null,
   "metadata": {},
   "outputs": [],
   "source": [
    "validationGenSet = trainDataGen.flow_from_directory(\n",
    "    validationImagePath,\n",
    "    batch_size=batchSize,\n",
    "    target_size=(imageWidth,imageHeight),\n",
    "    class_mode='categorical',\n",
    ")"
   ]
  },
  {
   "cell_type": "markdown",
   "metadata": {},
   "source": [
    "ImageDataGenerator (train, validation)"
   ]
  },
  {
   "cell_type": "code",
   "execution_count": null,
   "metadata": {},
   "outputs": [],
   "source": [
    "testDataGen = ImageDataGenerator(rescale=1./255)"
   ]
  },
  {
   "cell_type": "markdown",
   "metadata": {},
   "source": [
    "test set"
   ]
  },
  {
   "cell_type": "code",
   "execution_count": null,
   "metadata": {},
   "outputs": [],
   "source": [
    "testGenSet = testDataGen.flow_from_directory(\n",
    "    testImagePath,\n",
    "    batch_size=batchSize,\n",
    "    target_size=(imageWidth,imageHeight),\n",
    "    class_mode='categorical'\n",
    ")"
   ]
  },
  {
   "cell_type": "markdown",
   "metadata": {},
   "source": [
    "make model"
   ]
  },
  {
   "cell_type": "code",
   "execution_count": null,
   "metadata": {},
   "outputs": [],
   "source": [
    "model = tf.keras.Sequential([\n",
    "  ResNet50(include_top=False, weights='imagenet', input_shape=(imageWidth, imageHeight, imageChannel)),\n",
    "  GlobalAveragePooling2D(),\n",
    "  Dropout(rate=0.0),\n",
    "  Dense(1049, activation='relu' ),\n",
    "  Dense(44, activation='softmax'),\n",
    "])\n",
    "\n",
    "model.summary()"
   ]
  },
  {
   "cell_type": "code",
   "execution_count": null,
   "metadata": {},
   "outputs": [],
   "source": [
    "model.compile(loss='categorical_crossentropy',\n",
    "             optimizer='adam',\n",
    "             metrics=['accuracy'])"
   ]
  },
  {
   "cell_type": "markdown",
   "metadata": {},
   "source": [
    "difine callbacks"
   ]
  },
  {
   "cell_type": "code",
   "execution_count": null,
   "metadata": {},
   "outputs": [],
   "source": [
    "checkpointPath = '../checkpoints/epoch_{epoch:04d}.ckpt'"
   ]
  },
  {
   "cell_type": "code",
   "execution_count": null,
   "metadata": {},
   "outputs": [],
   "source": [
    "checkpoint = ModelCheckpoint(\n",
    "                        checkpointPath, monitor='val_loss', verbose=0, save_best_only=False,\n",
    "                        save_weights_only=False, mode='auto', save_freq='epoch'\n",
    "                    )\n"
   ]
  },
  {
   "cell_type": "code",
   "execution_count": null,
   "metadata": {},
   "outputs": [],
   "source": [
    "earlyStopping = [\n",
    "                    EarlyStopping(monitor='val_loss', patience=10, ),\n",
    "                    ModelCheckpoint( bestCheckpointPath, monitor='val_loss', save_best_only=True )\n",
    "                ]"
   ]
  },
  {
   "cell_type": "code",
   "execution_count": null,
   "metadata": {},
   "outputs": [],
   "source": [
    "tensorboard = tf.keras.callbacks.TensorBoard(logsPath, histogram_freq=1)"
   ]
  },
  {
   "cell_type": "code",
   "execution_count": null,
   "metadata": {},
   "outputs": [],
   "source": [
    "epochs = 200\n",
    "history = model.fit(\n",
    "    trainGenSet,\n",
    "    epochs=epochs,\n",
    "    validation_data=validationGenSet,\n",
    "    callbacks=[checkpoint,earlyStopping, tensorboard],\n",
    "    verbose=1\n",
    ")"
   ]
  },
  {
   "cell_type": "code",
   "execution_count": null,
   "metadata": {},
   "outputs": [],
   "source": [
    "scores = model.evaluate(testGenSet)\n",
    "print(scores)"
   ]
  },
  {
   "cell_type": "code",
   "execution_count": null,
   "metadata": {},
   "outputs": [],
   "source": [
    "%matplotlib inline\n",
    "import matplotlib.pyplot as plt\n",
    "\n",
    "fig, loss_ax = plt.subplots()\n",
    "acc_ax = loss_ax.twinx()\n",
    "\n",
    "loss_ax.plot(history.history['loss'], 'y', label = 'train loss')\n",
    "loss_ax.plot(history.history['val_loss'], 'r', label = 'val loss')\n",
    "acc_ax.plot(history.history['accuracy'], 'b', label = 'train accuracy')\n",
    "acc_ax.plot(history.history['val_accuracy'], 'g', label = 'val accuracy')\n",
    "\n",
    "loss_ax.set_xlabel('epoch')\n",
    "loss_ax.set_ylabel('loss')\n",
    "acc_ax.set_xlabel('accuracy')\n",
    "\n",
    "loss_ax.legend(loc = 'upper left')\n",
    "acc_ax.legend(loc = 'lower left')\n",
    "\n",
    "plt.show()"
   ]
  },
  {
   "cell_type": "code",
   "execution_count": null,
   "metadata": {},
   "outputs": [],
   "source": [
    "model.save('../model/resnetModel')"
   ]
  }
 ],
 "metadata": {
  "interpreter": {
   "hash": "9695e1afe6bd24ab3d12bcdaf245765a6ca7df3556ff5963a8b1ba99ba27e5c0"
  },
  "kernelspec": {
   "display_name": "Python 3.10.2 ('aiWebProject': venv)",
   "language": "python",
   "name": "python3"
  },
  "language_info": {
   "codemirror_mode": {
    "name": "ipython",
    "version": 3
   },
   "file_extension": ".py",
   "mimetype": "text/x-python",
   "name": "python",
   "nbconvert_exporter": "python",
   "pygments_lexer": "ipython3",
   "version": "3.10.2"
  },
  "orig_nbformat": 4
 },
 "nbformat": 4,
 "nbformat_minor": 2
}
