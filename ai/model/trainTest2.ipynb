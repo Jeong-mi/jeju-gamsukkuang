{
 "cells": [
  {
   "cell_type": "markdown",
   "metadata": {},
   "source": [
    "## ResNet50"
   ]
  },
  {
   "cell_type": "code",
   "execution_count": 39,
   "metadata": {},
   "outputs": [],
   "source": [
    "from tensorflow.keras.preprocessing.image import ImageDataGenerator, img_to_array, array_to_img, load_img\n",
    "\n",
    "\n",
    "from keras.utils import np_utils\n",
    "from keras.models import Sequential\n",
    "from keras.layers import *\n",
    "from keras.callbacks import ModelCheckpoint, EarlyStopping\n",
    "from tensorflow.keras.applications import ResNet50\n",
    "\n",
    "import os\n",
    "import pandas as pd\n",
    "import numpy as np\n",
    "\n",
    "import matplotlib.pyplot as plt\n",
    "%matplotlib inline\n",
    "\n",
    "import datetime\n",
    "import math\n",
    "\n",
    "from sklearn.metrics import accuracy_score"
   ]
  },
  {
   "cell_type": "code",
   "execution_count": 2,
   "metadata": {},
   "outputs": [],
   "source": [
    "trainImagePath = '../dataSet/splitImages/train'\n",
    "validationImagePath = '../dataSet/splitImages/val'\n",
    "testImagePath = '../dataSet/splitImages/test'\n",
    "checkpointPath = '../checkpoints/epoch_{epoch:04d}.ckpt'\n",
    "logsPath = '../logs/fit/'+datetime.datetime.now().strftime(\"%Y%m%d-%H%M%S\")\n",
    "bestCheckpointPath = '../model/best/best_model'\n",
    "\n",
    "batchSize = 64\n",
    "imageWidth = 224\n",
    "imageHeight = 224\n",
    "imageChannel = 3\n"
   ]
  },
  {
   "cell_type": "markdown",
   "metadata": {},
   "source": [
    "### 이미지 데이터 생성"
   ]
  },
  {
   "cell_type": "markdown",
   "metadata": {},
   "source": [
    "ImageDataGenerator (train, validation)"
   ]
  },
  {
   "cell_type": "code",
   "execution_count": 3,
   "metadata": {},
   "outputs": [],
   "source": [
    "trainDataGen = ImageDataGenerator(rescale=1./255,\n",
    "                                  rotation_range = 30,\n",
    "                                  width_shift_range=0.1,\n",
    "                                  height_shift_range=0.1,\n",
    "                                  shear_range=20,\n",
    "                                  zoom_range=0.3,\n",
    "                                  horizontal_flip=False,\n",
    "                                  vertical_flip=False,\n",
    "                                  brightness_range=[0.7, 1.3],\n",
    "                                  fill_mode='nearest',\n",
    "                                  )"
   ]
  },
  {
   "cell_type": "markdown",
   "metadata": {},
   "source": [
    "train set"
   ]
  },
  {
   "cell_type": "code",
   "execution_count": 4,
   "metadata": {},
   "outputs": [
    {
     "name": "stdout",
     "output_type": "stream",
     "text": [
      "Found 5601 images belonging to 44 classes.\n"
     ]
    }
   ],
   "source": [
    "trainGenSet = trainDataGen.flow_from_directory(\n",
    "    trainImagePath,\n",
    "    batch_size=batchSize,\n",
    "    target_size=(imageWidth,imageHeight),\n",
    "    class_mode='categorical',\n",
    "    shuffle=True\n",
    ")"
   ]
  },
  {
   "cell_type": "markdown",
   "metadata": {},
   "source": [
    "validation set"
   ]
  },
  {
   "cell_type": "code",
   "execution_count": 5,
   "metadata": {},
   "outputs": [
    {
     "name": "stdout",
     "output_type": "stream",
     "text": [
      "Found 681 images belonging to 44 classes.\n"
     ]
    }
   ],
   "source": [
    "validationGenSet = trainDataGen.flow_from_directory(\n",
    "    validationImagePath,\n",
    "    batch_size=batchSize,\n",
    "    target_size=(imageWidth,imageHeight),\n",
    "    class_mode='categorical',\n",
    ")"
   ]
  },
  {
   "cell_type": "markdown",
   "metadata": {},
   "source": [
    "ImageDataGenerator (train, validation)"
   ]
  },
  {
   "cell_type": "code",
   "execution_count": 6,
   "metadata": {},
   "outputs": [],
   "source": [
    "testDataGen = ImageDataGenerator(rescale=1./255)"
   ]
  },
  {
   "cell_type": "markdown",
   "metadata": {},
   "source": [
    "test set"
   ]
  },
  {
   "cell_type": "code",
   "execution_count": 7,
   "metadata": {},
   "outputs": [
    {
     "name": "stdout",
     "output_type": "stream",
     "text": [
      "Found 739 images belonging to 44 classes.\n"
     ]
    }
   ],
   "source": [
    "testGenSet = testDataGen.flow_from_directory(\n",
    "    testImagePath,\n",
    "    batch_size=batchSize,\n",
    "    target_size=(imageWidth,imageHeight),\n",
    "    class_mode='categorical'\n",
    ")"
   ]
  },
  {
   "cell_type": "markdown",
   "metadata": {},
   "source": [
    "make model"
   ]
  },
  {
   "cell_type": "code",
   "execution_count": 8,
   "metadata": {},
   "outputs": [
    {
     "name": "stdout",
     "output_type": "stream",
     "text": [
      "Model: \"sequential\"\n",
      "_________________________________________________________________\n",
      " Layer (type)                Output Shape              Param #   \n",
      "=================================================================\n",
      " resnet50 (Functional)       (None, 7, 7, 2048)        23587712  \n",
      "                                                                 \n",
      " global_average_pooling2d (G  (None, 2048)             0         \n",
      " lobalAveragePooling2D)                                          \n",
      "                                                                 \n",
      " dropout (Dropout)           (None, 2048)              0         \n",
      "                                                                 \n",
      " dense (Dense)               (None, 1049)              2149401   \n",
      "                                                                 \n",
      " dense_1 (Dense)             (None, 44)                46200     \n",
      "                                                                 \n",
      "=================================================================\n",
      "Total params: 25,783,313\n",
      "Trainable params: 25,730,193\n",
      "Non-trainable params: 53,120\n",
      "_________________________________________________________________\n"
     ]
    }
   ],
   "source": [
    "model = tf.keras.Sequential([\n",
    "  ResNet50(include_top=False, weights='imagenet', input_shape=(imageWidth, imageHeight, imageChannel)),\n",
    "  GlobalAveragePooling2D(),\n",
    "  Dropout(rate=0.0),\n",
    "  Dense(1049, activation='relu' ),\n",
    "  Dense(44, activation='softmax'),\n",
    "])\n",
    "\n",
    "model.summary()"
   ]
  },
  {
   "cell_type": "markdown",
   "metadata": {},
   "source": [
    "model compile"
   ]
  },
  {
   "cell_type": "code",
   "execution_count": 9,
   "metadata": {},
   "outputs": [],
   "source": [
    "model.compile(loss='categorical_crossentropy',\n",
    "             optimizer='adam',\n",
    "             metrics=['accuracy'])"
   ]
  },
  {
   "cell_type": "markdown",
   "metadata": {},
   "source": [
    "difine callbacks"
   ]
  },
  {
   "cell_type": "code",
   "execution_count": 10,
   "metadata": {},
   "outputs": [],
   "source": [
    "checkpoint = ModelCheckpoint(\n",
    "                        checkpointPath, monitor='val_loss', verbose=0, save_best_only=False,\n",
    "                        save_weights_only=False, mode='auto', save_freq='epoch'\n",
    "                    )\n"
   ]
  },
  {
   "cell_type": "code",
   "execution_count": 11,
   "metadata": {},
   "outputs": [],
   "source": [
    "earlyStopping = [\n",
    "                    EarlyStopping(monitor='val_loss', patience=10, ),\n",
    "                    ModelCheckpoint( bestCheckpointPath, monitor='val_loss', save_best_only=True )\n",
    "                ]"
   ]
  },
  {
   "cell_type": "code",
   "execution_count": 12,
   "metadata": {},
   "outputs": [],
   "source": [
    "tensorboard = tf.keras.callbacks.TensorBoard(logsPath, histogram_freq=1)"
   ]
  },
  {
   "cell_type": "markdown",
   "metadata": {},
   "source": [
    "model fit"
   ]
  },
  {
   "cell_type": "code",
   "execution_count": 13,
   "metadata": {
    "scrolled": true
   },
   "outputs": [
    {
     "name": "stdout",
     "output_type": "stream",
     "text": [
      "Epoch 1/200\n",
      "88/88 [==============================] - ETA: 0s - loss: 0.5324 - accuracy: 0.8768 "
     ]
    },
    {
     "name": "stderr",
     "output_type": "stream",
     "text": [
      "WARNING:absl:Found untraced functions such as _jit_compiled_convolution_op, _jit_compiled_convolution_op, _jit_compiled_convolution_op, _jit_compiled_convolution_op, _jit_compiled_convolution_op while saving (showing 5 of 53). These functions will not be directly callable after loading.\n"
     ]
    },
    {
     "name": "stdout",
     "output_type": "stream",
     "text": [
      "INFO:tensorflow:Assets written to: ../checkpoints/epoch_0001.ckpt/assets\n"
     ]
    },
    {
     "name": "stderr",
     "output_type": "stream",
     "text": [
      "INFO:tensorflow:Assets written to: ../checkpoints/epoch_0001.ckpt/assets\n",
      "WARNING:absl:Found untraced functions such as _jit_compiled_convolution_op, _jit_compiled_convolution_op, _jit_compiled_convolution_op, _jit_compiled_convolution_op, _jit_compiled_convolution_op while saving (showing 5 of 53). These functions will not be directly callable after loading.\n"
     ]
    },
    {
     "name": "stdout",
     "output_type": "stream",
     "text": [
      "INFO:tensorflow:Assets written to: ../model/best/best_model/assets\n"
     ]
    },
    {
     "name": "stderr",
     "output_type": "stream",
     "text": [
      "INFO:tensorflow:Assets written to: ../model/best/best_model/assets\n"
     ]
    },
    {
     "name": "stdout",
     "output_type": "stream",
     "text": [
      "88/88 [==============================] - 1226s 14s/step - loss: 0.5324 - accuracy: 0.8768 - val_loss: 727.0529 - val_accuracy: 0.0220\n",
      "Epoch 2/200\n",
      "88/88 [==============================] - ETA: 0s - loss: 0.1717 - accuracy: 0.9513 "
     ]
    },
    {
     "name": "stderr",
     "output_type": "stream",
     "text": [
      "WARNING:absl:Found untraced functions such as _jit_compiled_convolution_op, _jit_compiled_convolution_op, _jit_compiled_convolution_op, _jit_compiled_convolution_op, _jit_compiled_convolution_op while saving (showing 5 of 53). These functions will not be directly callable after loading.\n"
     ]
    },
    {
     "name": "stdout",
     "output_type": "stream",
     "text": [
      "INFO:tensorflow:Assets written to: ../checkpoints/epoch_0002.ckpt/assets\n"
     ]
    },
    {
     "name": "stderr",
     "output_type": "stream",
     "text": [
      "INFO:tensorflow:Assets written to: ../checkpoints/epoch_0002.ckpt/assets\n",
      "WARNING:absl:Found untraced functions such as _jit_compiled_convolution_op, _jit_compiled_convolution_op, _jit_compiled_convolution_op, _jit_compiled_convolution_op, _jit_compiled_convolution_op while saving (showing 5 of 53). These functions will not be directly callable after loading.\n"
     ]
    },
    {
     "name": "stdout",
     "output_type": "stream",
     "text": [
      "INFO:tensorflow:Assets written to: ../model/best/best_model/assets\n"
     ]
    },
    {
     "name": "stderr",
     "output_type": "stream",
     "text": [
      "INFO:tensorflow:Assets written to: ../model/best/best_model/assets\n"
     ]
    },
    {
     "name": "stdout",
     "output_type": "stream",
     "text": [
      "88/88 [==============================] - 1229s 14s/step - loss: 0.1717 - accuracy: 0.9513 - val_loss: 4.4260 - val_accuracy: 0.0220\n",
      "Epoch 3/200\n",
      "88/88 [==============================] - ETA: 0s - loss: 0.1112 - accuracy: 0.9713 "
     ]
    },
    {
     "name": "stderr",
     "output_type": "stream",
     "text": [
      "WARNING:absl:Found untraced functions such as _jit_compiled_convolution_op, _jit_compiled_convolution_op, _jit_compiled_convolution_op, _jit_compiled_convolution_op, _jit_compiled_convolution_op while saving (showing 5 of 53). These functions will not be directly callable after loading.\n"
     ]
    },
    {
     "name": "stdout",
     "output_type": "stream",
     "text": [
      "INFO:tensorflow:Assets written to: ../checkpoints/epoch_0003.ckpt/assets\n"
     ]
    },
    {
     "name": "stderr",
     "output_type": "stream",
     "text": [
      "INFO:tensorflow:Assets written to: ../checkpoints/epoch_0003.ckpt/assets\n"
     ]
    },
    {
     "name": "stdout",
     "output_type": "stream",
     "text": [
      "88/88 [==============================] - 1126s 13s/step - loss: 0.1112 - accuracy: 0.9713 - val_loss: 18.7694 - val_accuracy: 0.0220\n",
      "Epoch 4/200\n",
      "88/88 [==============================] - ETA: 0s - loss: 0.0386 - accuracy: 0.9900 "
     ]
    },
    {
     "name": "stderr",
     "output_type": "stream",
     "text": [
      "WARNING:absl:Found untraced functions such as _jit_compiled_convolution_op, _jit_compiled_convolution_op, _jit_compiled_convolution_op, _jit_compiled_convolution_op, _jit_compiled_convolution_op while saving (showing 5 of 53). These functions will not be directly callable after loading.\n"
     ]
    },
    {
     "name": "stdout",
     "output_type": "stream",
     "text": [
      "INFO:tensorflow:Assets written to: ../checkpoints/epoch_0004.ckpt/assets\n"
     ]
    },
    {
     "name": "stderr",
     "output_type": "stream",
     "text": [
      "INFO:tensorflow:Assets written to: ../checkpoints/epoch_0004.ckpt/assets\n"
     ]
    },
    {
     "name": "stdout",
     "output_type": "stream",
     "text": [
      "88/88 [==============================] - 1186s 13s/step - loss: 0.0386 - accuracy: 0.9900 - val_loss: 4.7981 - val_accuracy: 0.0220\n",
      "Epoch 5/200\n",
      "88/88 [==============================] - ETA: 0s - loss: 0.0135 - accuracy: 0.9963 "
     ]
    },
    {
     "name": "stderr",
     "output_type": "stream",
     "text": [
      "WARNING:absl:Found untraced functions such as _jit_compiled_convolution_op, _jit_compiled_convolution_op, _jit_compiled_convolution_op, _jit_compiled_convolution_op, _jit_compiled_convolution_op while saving (showing 5 of 53). These functions will not be directly callable after loading.\n"
     ]
    },
    {
     "name": "stdout",
     "output_type": "stream",
     "text": [
      "INFO:tensorflow:Assets written to: ../checkpoints/epoch_0005.ckpt/assets\n"
     ]
    },
    {
     "name": "stderr",
     "output_type": "stream",
     "text": [
      "INFO:tensorflow:Assets written to: ../checkpoints/epoch_0005.ckpt/assets\n"
     ]
    },
    {
     "name": "stdout",
     "output_type": "stream",
     "text": [
      "88/88 [==============================] - 1182s 13s/step - loss: 0.0135 - accuracy: 0.9963 - val_loss: 9.3498 - val_accuracy: 0.0220\n",
      "Epoch 6/200\n",
      "88/88 [==============================] - ETA: 0s - loss: 0.0467 - accuracy: 0.9880 "
     ]
    },
    {
     "name": "stderr",
     "output_type": "stream",
     "text": [
      "WARNING:absl:Found untraced functions such as _jit_compiled_convolution_op, _jit_compiled_convolution_op, _jit_compiled_convolution_op, _jit_compiled_convolution_op, _jit_compiled_convolution_op while saving (showing 5 of 53). These functions will not be directly callable after loading.\n"
     ]
    },
    {
     "name": "stdout",
     "output_type": "stream",
     "text": [
      "INFO:tensorflow:Assets written to: ../checkpoints/epoch_0006.ckpt/assets\n"
     ]
    },
    {
     "name": "stderr",
     "output_type": "stream",
     "text": [
      "INFO:tensorflow:Assets written to: ../checkpoints/epoch_0006.ckpt/assets\n"
     ]
    },
    {
     "name": "stdout",
     "output_type": "stream",
     "text": [
      "88/88 [==============================] - 1151s 13s/step - loss: 0.0467 - accuracy: 0.9880 - val_loss: 11.6061 - val_accuracy: 0.0235\n",
      "Epoch 7/200\n",
      "88/88 [==============================] - ETA: 0s - loss: 0.0721 - accuracy: 0.9802 "
     ]
    },
    {
     "name": "stderr",
     "output_type": "stream",
     "text": [
      "WARNING:absl:Found untraced functions such as _jit_compiled_convolution_op, _jit_compiled_convolution_op, _jit_compiled_convolution_op, _jit_compiled_convolution_op, _jit_compiled_convolution_op while saving (showing 5 of 53). These functions will not be directly callable after loading.\n"
     ]
    },
    {
     "name": "stdout",
     "output_type": "stream",
     "text": [
      "INFO:tensorflow:Assets written to: ../checkpoints/epoch_0007.ckpt/assets\n"
     ]
    },
    {
     "name": "stderr",
     "output_type": "stream",
     "text": [
      "INFO:tensorflow:Assets written to: ../checkpoints/epoch_0007.ckpt/assets\n"
     ]
    },
    {
     "name": "stdout",
     "output_type": "stream",
     "text": [
      "88/88 [==============================] - 1170s 13s/step - loss: 0.0721 - accuracy: 0.9802 - val_loss: 5.9007 - val_accuracy: 0.0367\n",
      "Epoch 8/200\n",
      "88/88 [==============================] - ETA: 0s - loss: 0.0757 - accuracy: 0.9813 "
     ]
    },
    {
     "name": "stderr",
     "output_type": "stream",
     "text": [
      "WARNING:absl:Found untraced functions such as _jit_compiled_convolution_op, _jit_compiled_convolution_op, _jit_compiled_convolution_op, _jit_compiled_convolution_op, _jit_compiled_convolution_op while saving (showing 5 of 53). These functions will not be directly callable after loading.\n"
     ]
    },
    {
     "name": "stdout",
     "output_type": "stream",
     "text": [
      "INFO:tensorflow:Assets written to: ../checkpoints/epoch_0008.ckpt/assets\n"
     ]
    },
    {
     "name": "stderr",
     "output_type": "stream",
     "text": [
      "INFO:tensorflow:Assets written to: ../checkpoints/epoch_0008.ckpt/assets\n"
     ]
    },
    {
     "name": "stdout",
     "output_type": "stream",
     "text": [
      "88/88 [==============================] - 1132s 13s/step - loss: 0.0757 - accuracy: 0.9813 - val_loss: 8.5556 - val_accuracy: 0.0235\n",
      "Epoch 9/200\n",
      "88/88 [==============================] - ETA: 0s - loss: 0.0337 - accuracy: 0.9905 "
     ]
    },
    {
     "name": "stderr",
     "output_type": "stream",
     "text": [
      "WARNING:absl:Found untraced functions such as _jit_compiled_convolution_op, _jit_compiled_convolution_op, _jit_compiled_convolution_op, _jit_compiled_convolution_op, _jit_compiled_convolution_op while saving (showing 5 of 53). These functions will not be directly callable after loading.\n"
     ]
    },
    {
     "name": "stdout",
     "output_type": "stream",
     "text": [
      "INFO:tensorflow:Assets written to: ../checkpoints/epoch_0009.ckpt/assets\n"
     ]
    },
    {
     "name": "stderr",
     "output_type": "stream",
     "text": [
      "INFO:tensorflow:Assets written to: ../checkpoints/epoch_0009.ckpt/assets\n"
     ]
    },
    {
     "name": "stdout",
     "output_type": "stream",
     "text": [
      "88/88 [==============================] - 1170s 13s/step - loss: 0.0337 - accuracy: 0.9905 - val_loss: 6.1883 - val_accuracy: 0.1454\n",
      "Epoch 10/200\n",
      "88/88 [==============================] - ETA: 0s - loss: 0.0396 - accuracy: 0.9909 "
     ]
    },
    {
     "name": "stderr",
     "output_type": "stream",
     "text": [
      "WARNING:absl:Found untraced functions such as _jit_compiled_convolution_op, _jit_compiled_convolution_op, _jit_compiled_convolution_op, _jit_compiled_convolution_op, _jit_compiled_convolution_op while saving (showing 5 of 53). These functions will not be directly callable after loading.\n"
     ]
    },
    {
     "name": "stdout",
     "output_type": "stream",
     "text": [
      "INFO:tensorflow:Assets written to: ../checkpoints/epoch_0010.ckpt/assets\n"
     ]
    },
    {
     "name": "stderr",
     "output_type": "stream",
     "text": [
      "INFO:tensorflow:Assets written to: ../checkpoints/epoch_0010.ckpt/assets\n",
      "WARNING:absl:Found untraced functions such as _jit_compiled_convolution_op, _jit_compiled_convolution_op, _jit_compiled_convolution_op, _jit_compiled_convolution_op, _jit_compiled_convolution_op while saving (showing 5 of 53). These functions will not be directly callable after loading.\n"
     ]
    },
    {
     "name": "stdout",
     "output_type": "stream",
     "text": [
      "INFO:tensorflow:Assets written to: ../model/best/best_model/assets\n"
     ]
    },
    {
     "name": "stderr",
     "output_type": "stream",
     "text": [
      "INFO:tensorflow:Assets written to: ../model/best/best_model/assets\n"
     ]
    },
    {
     "name": "stdout",
     "output_type": "stream",
     "text": [
      "88/88 [==============================] - 1208s 14s/step - loss: 0.0396 - accuracy: 0.9909 - val_loss: 3.4709 - val_accuracy: 0.2981\n",
      "Epoch 11/200\n",
      "88/88 [==============================] - ETA: 0s - loss: 0.0207 - accuracy: 0.9945 "
     ]
    },
    {
     "name": "stderr",
     "output_type": "stream",
     "text": [
      "WARNING:absl:Found untraced functions such as _jit_compiled_convolution_op, _jit_compiled_convolution_op, _jit_compiled_convolution_op, _jit_compiled_convolution_op, _jit_compiled_convolution_op while saving (showing 5 of 53). These functions will not be directly callable after loading.\n"
     ]
    },
    {
     "name": "stdout",
     "output_type": "stream",
     "text": [
      "INFO:tensorflow:Assets written to: ../checkpoints/epoch_0011.ckpt/assets\n"
     ]
    },
    {
     "name": "stderr",
     "output_type": "stream",
     "text": [
      "INFO:tensorflow:Assets written to: ../checkpoints/epoch_0011.ckpt/assets\n",
      "WARNING:absl:Found untraced functions such as _jit_compiled_convolution_op, _jit_compiled_convolution_op, _jit_compiled_convolution_op, _jit_compiled_convolution_op, _jit_compiled_convolution_op while saving (showing 5 of 53). These functions will not be directly callable after loading.\n"
     ]
    },
    {
     "name": "stdout",
     "output_type": "stream",
     "text": [
      "INFO:tensorflow:Assets written to: ../model/best/best_model/assets\n"
     ]
    },
    {
     "name": "stderr",
     "output_type": "stream",
     "text": [
      "INFO:tensorflow:Assets written to: ../model/best/best_model/assets\n"
     ]
    },
    {
     "name": "stdout",
     "output_type": "stream",
     "text": [
      "88/88 [==============================] - 1164s 13s/step - loss: 0.0207 - accuracy: 0.9945 - val_loss: 2.2652 - val_accuracy: 0.5786\n",
      "Epoch 12/200\n",
      "88/88 [==============================] - ETA: 0s - loss: 0.0308 - accuracy: 0.9907 "
     ]
    },
    {
     "name": "stderr",
     "output_type": "stream",
     "text": [
      "WARNING:absl:Found untraced functions such as _jit_compiled_convolution_op, _jit_compiled_convolution_op, _jit_compiled_convolution_op, _jit_compiled_convolution_op, _jit_compiled_convolution_op while saving (showing 5 of 53). These functions will not be directly callable after loading.\n"
     ]
    },
    {
     "name": "stdout",
     "output_type": "stream",
     "text": [
      "INFO:tensorflow:Assets written to: ../checkpoints/epoch_0012.ckpt/assets\n"
     ]
    },
    {
     "name": "stderr",
     "output_type": "stream",
     "text": [
      "INFO:tensorflow:Assets written to: ../checkpoints/epoch_0012.ckpt/assets\n",
      "WARNING:absl:Found untraced functions such as _jit_compiled_convolution_op, _jit_compiled_convolution_op, _jit_compiled_convolution_op, _jit_compiled_convolution_op, _jit_compiled_convolution_op while saving (showing 5 of 53). These functions will not be directly callable after loading.\n"
     ]
    },
    {
     "name": "stdout",
     "output_type": "stream",
     "text": [
      "INFO:tensorflow:Assets written to: ../model/best/best_model/assets\n"
     ]
    },
    {
     "name": "stderr",
     "output_type": "stream",
     "text": [
      "INFO:tensorflow:Assets written to: ../model/best/best_model/assets\n"
     ]
    },
    {
     "name": "stdout",
     "output_type": "stream",
     "text": [
      "88/88 [==============================] - 1210s 14s/step - loss: 0.0308 - accuracy: 0.9907 - val_loss: 1.0192 - val_accuracy: 0.7210\n",
      "Epoch 13/200\n",
      "88/88 [==============================] - ETA: 0s - loss: 0.0097 - accuracy: 0.9966 "
     ]
    },
    {
     "name": "stderr",
     "output_type": "stream",
     "text": [
      "WARNING:absl:Found untraced functions such as _jit_compiled_convolution_op, _jit_compiled_convolution_op, _jit_compiled_convolution_op, _jit_compiled_convolution_op, _jit_compiled_convolution_op while saving (showing 5 of 53). These functions will not be directly callable after loading.\n"
     ]
    },
    {
     "name": "stdout",
     "output_type": "stream",
     "text": [
      "INFO:tensorflow:Assets written to: ../checkpoints/epoch_0013.ckpt/assets\n"
     ]
    },
    {
     "name": "stderr",
     "output_type": "stream",
     "text": [
      "INFO:tensorflow:Assets written to: ../checkpoints/epoch_0013.ckpt/assets\n",
      "WARNING:absl:Found untraced functions such as _jit_compiled_convolution_op, _jit_compiled_convolution_op, _jit_compiled_convolution_op, _jit_compiled_convolution_op, _jit_compiled_convolution_op while saving (showing 5 of 53). These functions will not be directly callable after loading.\n"
     ]
    },
    {
     "name": "stdout",
     "output_type": "stream",
     "text": [
      "INFO:tensorflow:Assets written to: ../model/best/best_model/assets\n"
     ]
    },
    {
     "name": "stderr",
     "output_type": "stream",
     "text": [
      "INFO:tensorflow:Assets written to: ../model/best/best_model/assets\n"
     ]
    },
    {
     "name": "stdout",
     "output_type": "stream",
     "text": [
      "88/88 [==============================] - 1179s 13s/step - loss: 0.0097 - accuracy: 0.9966 - val_loss: 0.6883 - val_accuracy: 0.8076\n",
      "Epoch 14/200\n",
      "88/88 [==============================] - ETA: 0s - loss: 0.0087 - accuracy: 0.9971 "
     ]
    },
    {
     "name": "stderr",
     "output_type": "stream",
     "text": [
      "WARNING:absl:Found untraced functions such as _jit_compiled_convolution_op, _jit_compiled_convolution_op, _jit_compiled_convolution_op, _jit_compiled_convolution_op, _jit_compiled_convolution_op while saving (showing 5 of 53). These functions will not be directly callable after loading.\n"
     ]
    },
    {
     "name": "stdout",
     "output_type": "stream",
     "text": [
      "INFO:tensorflow:Assets written to: ../checkpoints/epoch_0014.ckpt/assets\n"
     ]
    },
    {
     "name": "stderr",
     "output_type": "stream",
     "text": [
      "INFO:tensorflow:Assets written to: ../checkpoints/epoch_0014.ckpt/assets\n",
      "WARNING:absl:Found untraced functions such as _jit_compiled_convolution_op, _jit_compiled_convolution_op, _jit_compiled_convolution_op, _jit_compiled_convolution_op, _jit_compiled_convolution_op while saving (showing 5 of 53). These functions will not be directly callable after loading.\n"
     ]
    },
    {
     "name": "stdout",
     "output_type": "stream",
     "text": [
      "INFO:tensorflow:Assets written to: ../model/best/best_model/assets\n"
     ]
    },
    {
     "name": "stderr",
     "output_type": "stream",
     "text": [
      "INFO:tensorflow:Assets written to: ../model/best/best_model/assets\n"
     ]
    },
    {
     "name": "stdout",
     "output_type": "stream",
     "text": [
      "88/88 [==============================] - 1185s 13s/step - loss: 0.0087 - accuracy: 0.9971 - val_loss: 0.1615 - val_accuracy: 0.9471\n",
      "Epoch 15/200\n",
      "88/88 [==============================] - ETA: 0s - loss: 0.0141 - accuracy: 0.9970 "
     ]
    },
    {
     "name": "stderr",
     "output_type": "stream",
     "text": [
      "WARNING:absl:Found untraced functions such as _jit_compiled_convolution_op, _jit_compiled_convolution_op, _jit_compiled_convolution_op, _jit_compiled_convolution_op, _jit_compiled_convolution_op while saving (showing 5 of 53). These functions will not be directly callable after loading.\n"
     ]
    },
    {
     "name": "stdout",
     "output_type": "stream",
     "text": [
      "INFO:tensorflow:Assets written to: ../checkpoints/epoch_0015.ckpt/assets\n"
     ]
    },
    {
     "name": "stderr",
     "output_type": "stream",
     "text": [
      "INFO:tensorflow:Assets written to: ../checkpoints/epoch_0015.ckpt/assets\n"
     ]
    },
    {
     "name": "stdout",
     "output_type": "stream",
     "text": [
      "88/88 [==============================] - 1156s 13s/step - loss: 0.0141 - accuracy: 0.9970 - val_loss: 0.7274 - val_accuracy: 0.8370\n",
      "Epoch 16/200\n",
      "88/88 [==============================] - ETA: 0s - loss: 0.0087 - accuracy: 0.9977 "
     ]
    },
    {
     "name": "stderr",
     "output_type": "stream",
     "text": [
      "WARNING:absl:Found untraced functions such as _jit_compiled_convolution_op, _jit_compiled_convolution_op, _jit_compiled_convolution_op, _jit_compiled_convolution_op, _jit_compiled_convolution_op while saving (showing 5 of 53). These functions will not be directly callable after loading.\n"
     ]
    },
    {
     "name": "stdout",
     "output_type": "stream",
     "text": [
      "INFO:tensorflow:Assets written to: ../checkpoints/epoch_0016.ckpt/assets\n"
     ]
    },
    {
     "name": "stderr",
     "output_type": "stream",
     "text": [
      "INFO:tensorflow:Assets written to: ../checkpoints/epoch_0016.ckpt/assets\n",
      "WARNING:absl:Found untraced functions such as _jit_compiled_convolution_op, _jit_compiled_convolution_op, _jit_compiled_convolution_op, _jit_compiled_convolution_op, _jit_compiled_convolution_op while saving (showing 5 of 53). These functions will not be directly callable after loading.\n"
     ]
    },
    {
     "name": "stdout",
     "output_type": "stream",
     "text": [
      "INFO:tensorflow:Assets written to: ../model/best/best_model/assets\n"
     ]
    },
    {
     "name": "stderr",
     "output_type": "stream",
     "text": [
      "INFO:tensorflow:Assets written to: ../model/best/best_model/assets\n"
     ]
    },
    {
     "name": "stdout",
     "output_type": "stream",
     "text": [
      "88/88 [==============================] - 1153s 13s/step - loss: 0.0087 - accuracy: 0.9977 - val_loss: 0.0765 - val_accuracy: 0.9765\n",
      "Epoch 17/200\n",
      "88/88 [==============================] - ETA: 0s - loss: 0.0389 - accuracy: 0.9896 "
     ]
    },
    {
     "name": "stderr",
     "output_type": "stream",
     "text": [
      "WARNING:absl:Found untraced functions such as _jit_compiled_convolution_op, _jit_compiled_convolution_op, _jit_compiled_convolution_op, _jit_compiled_convolution_op, _jit_compiled_convolution_op while saving (showing 5 of 53). These functions will not be directly callable after loading.\n"
     ]
    },
    {
     "name": "stdout",
     "output_type": "stream",
     "text": [
      "INFO:tensorflow:Assets written to: ../checkpoints/epoch_0017.ckpt/assets\n"
     ]
    },
    {
     "name": "stderr",
     "output_type": "stream",
     "text": [
      "INFO:tensorflow:Assets written to: ../checkpoints/epoch_0017.ckpt/assets\n"
     ]
    },
    {
     "name": "stdout",
     "output_type": "stream",
     "text": [
      "88/88 [==============================] - 1130s 13s/step - loss: 0.0389 - accuracy: 0.9896 - val_loss: 3.2064 - val_accuracy: 0.4728\n",
      "Epoch 18/200\n",
      "88/88 [==============================] - ETA: 0s - loss: 0.0563 - accuracy: 0.9852 "
     ]
    },
    {
     "name": "stderr",
     "output_type": "stream",
     "text": [
      "WARNING:absl:Found untraced functions such as _jit_compiled_convolution_op, _jit_compiled_convolution_op, _jit_compiled_convolution_op, _jit_compiled_convolution_op, _jit_compiled_convolution_op while saving (showing 5 of 53). These functions will not be directly callable after loading.\n"
     ]
    },
    {
     "name": "stdout",
     "output_type": "stream",
     "text": [
      "INFO:tensorflow:Assets written to: ../checkpoints/epoch_0018.ckpt/assets\n"
     ]
    },
    {
     "name": "stderr",
     "output_type": "stream",
     "text": [
      "INFO:tensorflow:Assets written to: ../checkpoints/epoch_0018.ckpt/assets\n"
     ]
    },
    {
     "name": "stdout",
     "output_type": "stream",
     "text": [
      "88/88 [==============================] - 1132s 13s/step - loss: 0.0563 - accuracy: 0.9852 - val_loss: 5.5228 - val_accuracy: 0.4332\n",
      "Epoch 19/200\n",
      "88/88 [==============================] - ETA: 0s - loss: 0.0512 - accuracy: 0.9834 "
     ]
    },
    {
     "name": "stderr",
     "output_type": "stream",
     "text": [
      "WARNING:absl:Found untraced functions such as _jit_compiled_convolution_op, _jit_compiled_convolution_op, _jit_compiled_convolution_op, _jit_compiled_convolution_op, _jit_compiled_convolution_op while saving (showing 5 of 53). These functions will not be directly callable after loading.\n"
     ]
    },
    {
     "name": "stdout",
     "output_type": "stream",
     "text": [
      "INFO:tensorflow:Assets written to: ../checkpoints/epoch_0019.ckpt/assets\n"
     ]
    },
    {
     "name": "stderr",
     "output_type": "stream",
     "text": [
      "INFO:tensorflow:Assets written to: ../checkpoints/epoch_0019.ckpt/assets\n"
     ]
    },
    {
     "name": "stdout",
     "output_type": "stream",
     "text": [
      "88/88 [==============================] - 1157s 13s/step - loss: 0.0512 - accuracy: 0.9834 - val_loss: 5.8175 - val_accuracy: 0.4347\n",
      "Epoch 20/200\n",
      "88/88 [==============================] - ETA: 0s - loss: 0.0276 - accuracy: 0.9916 "
     ]
    },
    {
     "name": "stderr",
     "output_type": "stream",
     "text": [
      "WARNING:absl:Found untraced functions such as _jit_compiled_convolution_op, _jit_compiled_convolution_op, _jit_compiled_convolution_op, _jit_compiled_convolution_op, _jit_compiled_convolution_op while saving (showing 5 of 53). These functions will not be directly callable after loading.\n"
     ]
    },
    {
     "name": "stdout",
     "output_type": "stream",
     "text": [
      "INFO:tensorflow:Assets written to: ../checkpoints/epoch_0020.ckpt/assets\n"
     ]
    },
    {
     "name": "stderr",
     "output_type": "stream",
     "text": [
      "INFO:tensorflow:Assets written to: ../checkpoints/epoch_0020.ckpt/assets\n"
     ]
    },
    {
     "name": "stdout",
     "output_type": "stream",
     "text": [
      "88/88 [==============================] - 1151s 13s/step - loss: 0.0276 - accuracy: 0.9916 - val_loss: 0.4626 - val_accuracy: 0.9104\n",
      "Epoch 21/200\n",
      "88/88 [==============================] - ETA: 0s - loss: 0.0173 - accuracy: 0.9945 "
     ]
    },
    {
     "name": "stderr",
     "output_type": "stream",
     "text": [
      "WARNING:absl:Found untraced functions such as _jit_compiled_convolution_op, _jit_compiled_convolution_op, _jit_compiled_convolution_op, _jit_compiled_convolution_op, _jit_compiled_convolution_op while saving (showing 5 of 53). These functions will not be directly callable after loading.\n"
     ]
    },
    {
     "name": "stdout",
     "output_type": "stream",
     "text": [
      "INFO:tensorflow:Assets written to: ../checkpoints/epoch_0021.ckpt/assets\n"
     ]
    },
    {
     "name": "stderr",
     "output_type": "stream",
     "text": [
      "INFO:tensorflow:Assets written to: ../checkpoints/epoch_0021.ckpt/assets\n",
      "WARNING:absl:Found untraced functions such as _jit_compiled_convolution_op, _jit_compiled_convolution_op, _jit_compiled_convolution_op, _jit_compiled_convolution_op, _jit_compiled_convolution_op while saving (showing 5 of 53). These functions will not be directly callable after loading.\n"
     ]
    },
    {
     "name": "stdout",
     "output_type": "stream",
     "text": [
      "INFO:tensorflow:Assets written to: ../model/best/best_model/assets\n"
     ]
    },
    {
     "name": "stderr",
     "output_type": "stream",
     "text": [
      "INFO:tensorflow:Assets written to: ../model/best/best_model/assets\n"
     ]
    },
    {
     "name": "stdout",
     "output_type": "stream",
     "text": [
      "88/88 [==============================] - 1166s 13s/step - loss: 0.0173 - accuracy: 0.9945 - val_loss: 0.0346 - val_accuracy: 0.9868\n",
      "Epoch 22/200\n",
      "88/88 [==============================] - ETA: 0s - loss: 0.0282 - accuracy: 0.9920 "
     ]
    },
    {
     "name": "stderr",
     "output_type": "stream",
     "text": [
      "WARNING:absl:Found untraced functions such as _jit_compiled_convolution_op, _jit_compiled_convolution_op, _jit_compiled_convolution_op, _jit_compiled_convolution_op, _jit_compiled_convolution_op while saving (showing 5 of 53). These functions will not be directly callable after loading.\n"
     ]
    },
    {
     "name": "stdout",
     "output_type": "stream",
     "text": [
      "INFO:tensorflow:Assets written to: ../checkpoints/epoch_0022.ckpt/assets\n"
     ]
    },
    {
     "name": "stderr",
     "output_type": "stream",
     "text": [
      "INFO:tensorflow:Assets written to: ../checkpoints/epoch_0022.ckpt/assets\n"
     ]
    },
    {
     "name": "stdout",
     "output_type": "stream",
     "text": [
      "88/88 [==============================] - 1132s 13s/step - loss: 0.0282 - accuracy: 0.9920 - val_loss: 0.7319 - val_accuracy: 0.8693\n",
      "Epoch 23/200\n",
      "88/88 [==============================] - ETA: 0s - loss: 0.0106 - accuracy: 0.9979 "
     ]
    },
    {
     "name": "stderr",
     "output_type": "stream",
     "text": [
      "WARNING:absl:Found untraced functions such as _jit_compiled_convolution_op, _jit_compiled_convolution_op, _jit_compiled_convolution_op, _jit_compiled_convolution_op, _jit_compiled_convolution_op while saving (showing 5 of 53). These functions will not be directly callable after loading.\n"
     ]
    },
    {
     "name": "stdout",
     "output_type": "stream",
     "text": [
      "INFO:tensorflow:Assets written to: ../checkpoints/epoch_0023.ckpt/assets\n"
     ]
    },
    {
     "name": "stderr",
     "output_type": "stream",
     "text": [
      "INFO:tensorflow:Assets written to: ../checkpoints/epoch_0023.ckpt/assets\n"
     ]
    },
    {
     "name": "stdout",
     "output_type": "stream",
     "text": [
      "88/88 [==============================] - 1179s 13s/step - loss: 0.0106 - accuracy: 0.9979 - val_loss: 0.3387 - val_accuracy: 0.9236\n",
      "Epoch 24/200\n",
      "88/88 [==============================] - ETA: 0s - loss: 0.0128 - accuracy: 0.9968 "
     ]
    },
    {
     "name": "stderr",
     "output_type": "stream",
     "text": [
      "WARNING:absl:Found untraced functions such as _jit_compiled_convolution_op, _jit_compiled_convolution_op, _jit_compiled_convolution_op, _jit_compiled_convolution_op, _jit_compiled_convolution_op while saving (showing 5 of 53). These functions will not be directly callable after loading.\n"
     ]
    },
    {
     "name": "stdout",
     "output_type": "stream",
     "text": [
      "INFO:tensorflow:Assets written to: ../checkpoints/epoch_0024.ckpt/assets\n"
     ]
    },
    {
     "name": "stderr",
     "output_type": "stream",
     "text": [
      "INFO:tensorflow:Assets written to: ../checkpoints/epoch_0024.ckpt/assets\n"
     ]
    },
    {
     "name": "stdout",
     "output_type": "stream",
     "text": [
      "88/88 [==============================] - 1138s 13s/step - loss: 0.0128 - accuracy: 0.9968 - val_loss: 0.6659 - val_accuracy: 0.8297\n",
      "Epoch 25/200\n",
      "88/88 [==============================] - ETA: 0s - loss: 0.0062 - accuracy: 0.9986 "
     ]
    },
    {
     "name": "stderr",
     "output_type": "stream",
     "text": [
      "WARNING:absl:Found untraced functions such as _jit_compiled_convolution_op, _jit_compiled_convolution_op, _jit_compiled_convolution_op, _jit_compiled_convolution_op, _jit_compiled_convolution_op while saving (showing 5 of 53). These functions will not be directly callable after loading.\n"
     ]
    },
    {
     "name": "stdout",
     "output_type": "stream",
     "text": [
      "INFO:tensorflow:Assets written to: ../checkpoints/epoch_0025.ckpt/assets\n"
     ]
    },
    {
     "name": "stderr",
     "output_type": "stream",
     "text": [
      "INFO:tensorflow:Assets written to: ../checkpoints/epoch_0025.ckpt/assets\n"
     ]
    },
    {
     "name": "stdout",
     "output_type": "stream",
     "text": [
      "88/88 [==============================] - 1173s 13s/step - loss: 0.0062 - accuracy: 0.9986 - val_loss: 0.0838 - val_accuracy: 0.9706\n",
      "Epoch 26/200\n",
      "88/88 [==============================] - ETA: 0s - loss: 0.0159 - accuracy: 0.9950 "
     ]
    },
    {
     "name": "stderr",
     "output_type": "stream",
     "text": [
      "WARNING:absl:Found untraced functions such as _jit_compiled_convolution_op, _jit_compiled_convolution_op, _jit_compiled_convolution_op, _jit_compiled_convolution_op, _jit_compiled_convolution_op while saving (showing 5 of 53). These functions will not be directly callable after loading.\n"
     ]
    },
    {
     "name": "stdout",
     "output_type": "stream",
     "text": [
      "INFO:tensorflow:Assets written to: ../checkpoints/epoch_0026.ckpt/assets\n"
     ]
    },
    {
     "name": "stderr",
     "output_type": "stream",
     "text": [
      "INFO:tensorflow:Assets written to: ../checkpoints/epoch_0026.ckpt/assets\n"
     ]
    },
    {
     "name": "stdout",
     "output_type": "stream",
     "text": [
      "88/88 [==============================] - 1171s 13s/step - loss: 0.0159 - accuracy: 0.9950 - val_loss: 0.5991 - val_accuracy: 0.8473\n",
      "Epoch 27/200\n",
      "88/88 [==============================] - ETA: 0s - loss: 0.0101 - accuracy: 0.9973 "
     ]
    },
    {
     "name": "stderr",
     "output_type": "stream",
     "text": [
      "WARNING:absl:Found untraced functions such as _jit_compiled_convolution_op, _jit_compiled_convolution_op, _jit_compiled_convolution_op, _jit_compiled_convolution_op, _jit_compiled_convolution_op while saving (showing 5 of 53). These functions will not be directly callable after loading.\n"
     ]
    },
    {
     "name": "stdout",
     "output_type": "stream",
     "text": [
      "INFO:tensorflow:Assets written to: ../checkpoints/epoch_0027.ckpt/assets\n"
     ]
    },
    {
     "name": "stderr",
     "output_type": "stream",
     "text": [
      "INFO:tensorflow:Assets written to: ../checkpoints/epoch_0027.ckpt/assets\n"
     ]
    },
    {
     "name": "stdout",
     "output_type": "stream",
     "text": [
      "88/88 [==============================] - 1159s 13s/step - loss: 0.0101 - accuracy: 0.9973 - val_loss: 1.4330 - val_accuracy: 0.7518\n",
      "Epoch 28/200\n",
      "88/88 [==============================] - ETA: 0s - loss: 0.0314 - accuracy: 0.9918 "
     ]
    },
    {
     "name": "stderr",
     "output_type": "stream",
     "text": [
      "WARNING:absl:Found untraced functions such as _jit_compiled_convolution_op, _jit_compiled_convolution_op, _jit_compiled_convolution_op, _jit_compiled_convolution_op, _jit_compiled_convolution_op while saving (showing 5 of 53). These functions will not be directly callable after loading.\n"
     ]
    },
    {
     "name": "stdout",
     "output_type": "stream",
     "text": [
      "INFO:tensorflow:Assets written to: ../checkpoints/epoch_0028.ckpt/assets\n"
     ]
    },
    {
     "name": "stderr",
     "output_type": "stream",
     "text": [
      "INFO:tensorflow:Assets written to: ../checkpoints/epoch_0028.ckpt/assets\n"
     ]
    },
    {
     "name": "stdout",
     "output_type": "stream",
     "text": [
      "88/88 [==============================] - 1157s 13s/step - loss: 0.0314 - accuracy: 0.9918 - val_loss: 2.0987 - val_accuracy: 0.6623\n",
      "Epoch 29/200\n",
      "88/88 [==============================] - ETA: 0s - loss: 0.0377 - accuracy: 0.9902 "
     ]
    },
    {
     "name": "stderr",
     "output_type": "stream",
     "text": [
      "WARNING:absl:Found untraced functions such as _jit_compiled_convolution_op, _jit_compiled_convolution_op, _jit_compiled_convolution_op, _jit_compiled_convolution_op, _jit_compiled_convolution_op while saving (showing 5 of 53). These functions will not be directly callable after loading.\n"
     ]
    },
    {
     "name": "stdout",
     "output_type": "stream",
     "text": [
      "INFO:tensorflow:Assets written to: ../checkpoints/epoch_0029.ckpt/assets\n"
     ]
    },
    {
     "name": "stderr",
     "output_type": "stream",
     "text": [
      "INFO:tensorflow:Assets written to: ../checkpoints/epoch_0029.ckpt/assets\n"
     ]
    },
    {
     "name": "stdout",
     "output_type": "stream",
     "text": [
      "88/88 [==============================] - 1143s 13s/step - loss: 0.0377 - accuracy: 0.9902 - val_loss: 0.5415 - val_accuracy: 0.8473\n",
      "Epoch 30/200\n",
      "88/88 [==============================] - ETA: 0s - loss: 0.0270 - accuracy: 0.9932 "
     ]
    },
    {
     "name": "stderr",
     "output_type": "stream",
     "text": [
      "WARNING:absl:Found untraced functions such as _jit_compiled_convolution_op, _jit_compiled_convolution_op, _jit_compiled_convolution_op, _jit_compiled_convolution_op, _jit_compiled_convolution_op while saving (showing 5 of 53). These functions will not be directly callable after loading.\n"
     ]
    },
    {
     "name": "stdout",
     "output_type": "stream",
     "text": [
      "INFO:tensorflow:Assets written to: ../checkpoints/epoch_0030.ckpt/assets\n"
     ]
    },
    {
     "name": "stderr",
     "output_type": "stream",
     "text": [
      "INFO:tensorflow:Assets written to: ../checkpoints/epoch_0030.ckpt/assets\n"
     ]
    },
    {
     "name": "stdout",
     "output_type": "stream",
     "text": [
      "88/88 [==============================] - 1360s 15s/step - loss: 0.0270 - accuracy: 0.9932 - val_loss: 0.3404 - val_accuracy: 0.9031\n",
      "Epoch 31/200\n",
      "88/88 [==============================] - ETA: 0s - loss: 0.0033 - accuracy: 0.9989 "
     ]
    },
    {
     "name": "stderr",
     "output_type": "stream",
     "text": [
      "WARNING:absl:Found untraced functions such as _jit_compiled_convolution_op, _jit_compiled_convolution_op, _jit_compiled_convolution_op, _jit_compiled_convolution_op, _jit_compiled_convolution_op while saving (showing 5 of 53). These functions will not be directly callable after loading.\n"
     ]
    },
    {
     "name": "stdout",
     "output_type": "stream",
     "text": [
      "INFO:tensorflow:Assets written to: ../checkpoints/epoch_0031.ckpt/assets\n"
     ]
    },
    {
     "name": "stderr",
     "output_type": "stream",
     "text": [
      "INFO:tensorflow:Assets written to: ../checkpoints/epoch_0031.ckpt/assets\n"
     ]
    },
    {
     "name": "stdout",
     "output_type": "stream",
     "text": [
      "\b\b\b\b\b\b\b\b\b\b\b\b\b\b\b\b\b\b\b\b\b\b\b\b\b\b\b\b\b\b\b\b\b\b\b\b\b\b\b\b\b\b\b\b\b\b\b\b\b\b\b\b\b\b\b\b\b\b\b\b\b\b\b\b\b\b\b\b\b\b\b\b\b\b\b\b\b\b\b\b\b\b\r\n",
      "88/88 [==============================] - 1152s 13s/step - loss: 0.0033 - accuracy: 0.9989 - val_loss: 0.0711 - val_accuracy: 0.9736\n"
     ]
    }
   ],
   "source": [
    "epochs = 200\n",
    "history = model.fit(\n",
    "    trainGenSet,\n",
    "    epochs=epochs,\n",
    "    validation_data=validationGenSet,\n",
    "    callbacks=[checkpoint,earlyStopping, tensorboard],\n",
    "    verbose=1\n",
    ")"
   ]
  },
  {
   "cell_type": "code",
   "execution_count": 14,
   "metadata": {
    "scrolled": true
   },
   "outputs": [
    {
     "name": "stdout",
     "output_type": "stream",
     "text": [
      "12/12 [==============================] - 124s 10s/step - loss: 0.4983 - accuracy: 0.8742\n",
      "[0.49831336736679077, 0.874154269695282]\n"
     ]
    }
   ],
   "source": [
    "scores = model.evaluate(testGenSet)\n",
    "print(scores)"
   ]
  },
  {
   "cell_type": "code",
   "execution_count": 19,
   "metadata": {},
   "outputs": [
    {
     "name": "stdout",
     "output_type": "stream",
     "text": [
      "test_loss: 0.498313307762146 test_accuracy: 0.874154269695282\n"
     ]
    }
   ],
   "source": [
    "testLoss, testAccuracy = model.evaluate(testGenSet, verbose=0)\n",
    "\n",
    "print(\"test_loss:\", testLoss, \"test_accuracy:\", testAccuracy)"
   ]
  },
  {
   "cell_type": "code",
   "execution_count": 17,
   "metadata": {
    "scrolled": true
   },
   "outputs": [
    {
     "data": {
      "image/png": "[encoded data removed]",
      "text/plain": [
       "<Figure size 432x288 with 2 Axes>"
      ]
     },
     "metadata": {
      "needs_background": "light"
     },
     "output_type": "display_data"
    }
   ],
   "source": [
    "\n",
    "\n",
    "fig, loss_ax = plt.subplots()\n",
    "acc_ax = loss_ax.twinx()\n",
    "\n",
    "loss_ax.plot(history.history['loss'], 'y', label = 'train loss')\n",
    "loss_ax.plot(history.history['val_loss'], 'r', label = 'val loss')\n",
    "acc_ax.plot(history.history['accuracy'], 'b', label = 'train accuracy')\n",
    "acc_ax.plot(history.history['val_accuracy'], 'g', label = 'val accuracy')\n",
    "\n",
    "loss_ax.set_xlabel('epoch')\n",
    "loss_ax.set_ylabel('loss')\n",
    "acc_ax.set_xlabel('accuracy')\n",
    "\n",
    "loss_ax.legend(loc = 'upper left')\n",
    "acc_ax.legend(loc = 'lower left')\n",
    "\n",
    "plt.show()"
   ]
  },
  {
   "cell_type": "code",
   "execution_count": 22,
   "metadata": {},
   "outputs": [
    {
     "data": {
      "image/png": "[encoded data removed]",
      "text/plain": [
       "<Figure size 432x288 with 1 Axes>"
      ]
     },
     "metadata": {
      "needs_background": "light"
     },
     "output_type": "display_data"
    },
    {
     "data": {
      "image/png": "[encoded data removed]",
      "text/plain": [
       "<Figure size 432x288 with 1 Axes>"
      ]
     },
     "metadata": {
      "needs_background": "light"
     },
     "output_type": "display_data"
    }
   ],
   "source": [
    "# 6 훈련 과정 시각화 (정확도)\n",
    "plt.plot(history.history['accuracy'])\n",
    "plt.plot(history.history['val_accuracy'])\n",
    "plt.title('Model accuracy')\n",
    "plt.xlabel('Epoch')\n",
    "plt.ylabel('Accuracy')\n",
    "plt.legend(['Train', 'Test'], loc='upper left')\n",
    "plt.show()\n",
    "\n",
    "# 7 훈련 과정 시각화 (손실)\n",
    "plt.plot(history.history['loss'])\n",
    "plt.plot(history.history['val_loss'])\n",
    "plt.title('Model loss')\n",
    "plt.xlabel('Epoch')\n",
    "plt.ylabel('Loss')\n",
    "plt.ylim([0, 10])\n",
    "plt.legend(['Train', 'Test'], loc='upper left')\n",
    "plt.show()"
   ]
  },
  {
   "cell_type": "code",
   "execution_count": 18,
   "metadata": {},
   "outputs": [
    {
     "name": "stderr",
     "output_type": "stream",
     "text": [
      "WARNING:absl:Found untraced functions such as _jit_compiled_convolution_op, _jit_compiled_convolution_op, _jit_compiled_convolution_op, _jit_compiled_convolution_op, _jit_compiled_convolution_op while saving (showing 5 of 53). These functions will not be directly callable after loading.\n"
     ]
    },
    {
     "name": "stdout",
     "output_type": "stream",
     "text": [
      "INFO:tensorflow:Assets written to: ../model/resnetModel/assets\n"
     ]
    },
    {
     "name": "stderr",
     "output_type": "stream",
     "text": [
      "INFO:tensorflow:Assets written to: ../model/resnetModel/assets\n"
     ]
    }
   ],
   "source": [
    "model.save('../model/resnetModel')"
   ]
  },
  {
   "cell_type": "code",
   "execution_count": 36,
   "metadata": {},
   "outputs": [
    {
     "data": {
      "image/png": "[encoded data removed]",
      "text/plain": [
       "<PIL.Image.Image image mode=RGB size=224x224 at 0x7F20803CD460>"
      ]
     },
     "execution_count": 36,
     "metadata": {},
     "output_type": "execute_result"
    }
   ],
   "source": [
    "testImage = load_img(\"../testImage.jpg\", target_size = (imageHeight, imageWidth))\n",
    "testImage"
   ]
  },
  {
   "cell_type": "code",
   "execution_count": 37,
   "metadata": {},
   "outputs": [
    {
     "name": "stdout",
     "output_type": "stream",
     "text": [
      "[[[0.2627451  0.32941177 0.30588236]\n",
      "  [0.22745098 0.2901961  0.2784314 ]\n",
      "  [0.28627452 0.34901962 0.3372549 ]\n",
      "  ...\n",
      "  [0.34117648 0.40784314 0.43529412]\n",
      "  [0.36862746 0.43529412 0.4627451 ]\n",
      "  [0.36862746 0.44705883 0.4392157 ]]\n",
      "\n",
      " [[0.29411766 0.36078432 0.3372549 ]\n",
      "  [0.20392157 0.26666668 0.25490198]\n",
      "  [0.29803923 0.36078432 0.34901962]\n",
      "  ...\n",
      "  [0.28235295 0.3529412  0.36862746]\n",
      "  [0.32156864 0.39215687 0.40784314]\n",
      "  [0.29803923 0.38039216 0.36078432]]\n",
      "\n",
      " [[0.4        0.46666667 0.44313726]\n",
      "  [0.36862746 0.43137255 0.41960785]\n",
      "  [0.43529412 0.49803922 0.4862745 ]\n",
      "  ...\n",
      "  [0.30588236 0.3764706  0.3764706 ]\n",
      "  [0.28627452 0.35686275 0.35686275]\n",
      "  [0.34901962 0.43137255 0.40392157]]\n",
      "\n",
      " ...\n",
      "\n",
      " [[0.18039216 0.2784314  0.16078432]\n",
      "  [0.18039216 0.2784314  0.16078432]\n",
      "  [0.17254902 0.27058825 0.15294118]\n",
      "  ...\n",
      "  [0.5137255  0.56078434 0.40392157]\n",
      "  [0.4862745  0.5372549  0.36862746]\n",
      "  [0.49411765 0.5372549  0.40392157]]\n",
      "\n",
      " [[0.14509805 0.24313726 0.1254902 ]\n",
      "  [0.14509805 0.24313726 0.1254902 ]\n",
      "  [0.15294118 0.2509804  0.13333334]\n",
      "  ...\n",
      "  [0.5372549  0.58431375 0.42745098]\n",
      "  [0.50980395 0.56078434 0.3882353 ]\n",
      "  [0.5058824  0.5411765  0.41960785]]\n",
      "\n",
      " [[0.16470589 0.27058825 0.14117648]\n",
      "  [0.19215687 0.29803923 0.16862746]\n",
      "  [0.1882353  0.29411766 0.16470589]\n",
      "  ...\n",
      "  [0.5803922  0.6392157  0.47843137]\n",
      "  [0.48235294 0.5411765  0.37254903]\n",
      "  [0.48235294 0.53333336 0.3647059 ]]]\n"
     ]
    }
   ],
   "source": [
    "testImage = img_to_array(testImage)\n",
    "testImage = testImage/255.0\n",
    "\n",
    "print(testImage)"
   ]
  },
  {
   "cell_type": "code",
   "execution_count": 38,
   "metadata": {},
   "outputs": [
    {
     "name": "stdout",
     "output_type": "stream",
     "text": [
      "1/1 [==============================] - 2s 2s/step\n"
     ]
    }
   ],
   "source": [
    "confidence = model.predict(testImage.reshape((1, imageHeight, imageWidth, imageChannel)))"
   ]
  },
  {
   "cell_type": "code",
   "execution_count": 40,
   "metadata": {},
   "outputs": [
    {
     "name": "stdout",
     "output_type": "stream",
     "text": [
      "0 일 확률 = 0.0\n",
      "1 일 확률 = 0.0\n",
      "2 일 확률 = 0.0\n",
      "3 일 확률 = 0.12600000202655792\n",
      "4 일 확률 = 0.0\n",
      "5 일 확률 = 0.0\n",
      "6 일 확률 = 0.0\n",
      "7 일 확률 = 0.0\n",
      "8 일 확률 = 0.0\n",
      "9 일 확률 = 0.0\n",
      "10 일 확률 = 0.0\n",
      "11 일 확률 = 0.0\n",
      "12 일 확률 = 0.0\n",
      "13 일 확률 = 0.0\n",
      "14 일 확률 = 0.0\n",
      "15 일 확률 = 0.0\n",
      "16 일 확률 = 0.0\n",
      "17 일 확률 = 0.0\n",
      "18 일 확률 = 0.0\n",
      "19 일 확률 = 0.0\n",
      "20 일 확률 = 0.0\n",
      "21 일 확률 = 0.0\n",
      "22 일 확률 = 0.0\n",
      "23 일 확률 = 0.0\n",
      "24 일 확률 = 0.0\n",
      "25 일 확률 = 0.0\n",
      "26 일 확률 = 0.0\n",
      "27 일 확률 = 0.0\n",
      "28 일 확률 = 0.0\n",
      "29 일 확률 = 0.0\n",
      "30 일 확률 = 0.0\n",
      "31 일 확률 = 0.0\n",
      "32 일 확률 = 0.0\n",
      "33 일 확률 = 0.8730000257492065\n",
      "34 일 확률 = 0.0\n",
      "35 일 확률 = 0.0\n",
      "36 일 확률 = 0.0\n",
      "37 일 확률 = 0.0\n",
      "38 일 확률 = 0.0\n",
      "39 일 확률 = 0.0\n",
      "40 일 확률 = 0.0\n",
      "41 일 확률 = 0.0\n",
      "42 일 확률 = 0.0\n",
      "43 일 확률 = 0.0\n",
      "정답은 : [33]\n"
     ]
    }
   ],
   "source": [
    "for i in range(confidence.shape[1]):\n",
    "    print(f\"{i} 일 확률 = {round(confidence[0][i], 3)}\")\n",
    "\n",
    "print(f\"정답은 : {np.argmax(confidence, axis=1)}\")"
   ]
  },
  {
   "cell_type": "code",
   "execution_count": 42,
   "metadata": {},
   "outputs": [
    {
     "data": {
      "text/html": [
       "<div>\n",
       "<style scoped>\n",
       "    .dataframe tbody tr th:only-of-type {\n",
       "        vertical-align: middle;\n",
       "    }\n",
       "\n",
       "    .dataframe tbody tr th {\n",
       "        vertical-align: top;\n",
       "    }\n",
       "\n",
       "    .dataframe thead th {\n",
       "        text-align: right;\n",
       "    }\n",
       "</style>\n",
       "<table border=\"1\" class=\"dataframe\">\n",
       "  <thead>\n",
       "    <tr style=\"text-align: right;\">\n",
       "      <th></th>\n",
       "      <th>Unnamed: 0</th>\n",
       "      <th>bBoxW</th>\n",
       "      <th>bBoxH</th>\n",
       "      <th>bBoxX</th>\n",
       "      <th>width</th>\n",
       "      <th>height</th>\n",
       "      <th>categoryId</th>\n",
       "      <th>bBoxY</th>\n",
       "      <th>fileName</th>\n",
       "      <th>categoryName</th>\n",
       "    </tr>\n",
       "  </thead>\n",
       "  <tbody>\n",
       "    <tr>\n",
       "      <th>0</th>\n",
       "      <td>0</td>\n",
       "      <td>4000.0</td>\n",
       "      <td>2252.0</td>\n",
       "      <td>0.0</td>\n",
       "      <td>4000</td>\n",
       "      <td>2252</td>\n",
       "      <td>20813</td>\n",
       "      <td>0.0</td>\n",
       "      <td>검멀레동굴 _066_42469394.jpg</td>\n",
       "      <td>검멀레동굴</td>\n",
       "    </tr>\n",
       "    <tr>\n",
       "      <th>1</th>\n",
       "      <td>1</td>\n",
       "      <td>4000.0</td>\n",
       "      <td>2252.0</td>\n",
       "      <td>0.0</td>\n",
       "      <td>4000</td>\n",
       "      <td>2252</td>\n",
       "      <td>20813</td>\n",
       "      <td>0.0</td>\n",
       "      <td>검멀레동굴 _067_42469395.jpg</td>\n",
       "      <td>검멀레동굴</td>\n",
       "    </tr>\n",
       "    <tr>\n",
       "      <th>2</th>\n",
       "      <td>2</td>\n",
       "      <td>4000.0</td>\n",
       "      <td>2252.0</td>\n",
       "      <td>0.0</td>\n",
       "      <td>4000</td>\n",
       "      <td>2252</td>\n",
       "      <td>20813</td>\n",
       "      <td>0.0</td>\n",
       "      <td>검멀레동굴 _068_42469396.jpg</td>\n",
       "      <td>검멀레동굴</td>\n",
       "    </tr>\n",
       "    <tr>\n",
       "      <th>3</th>\n",
       "      <td>3</td>\n",
       "      <td>4000.0</td>\n",
       "      <td>2252.0</td>\n",
       "      <td>0.0</td>\n",
       "      <td>4000</td>\n",
       "      <td>2252</td>\n",
       "      <td>20813</td>\n",
       "      <td>0.0</td>\n",
       "      <td>검멀레동굴 _104_42469397.jpg</td>\n",
       "      <td>검멀레동굴</td>\n",
       "    </tr>\n",
       "    <tr>\n",
       "      <th>4</th>\n",
       "      <td>4</td>\n",
       "      <td>4000.0</td>\n",
       "      <td>2252.0</td>\n",
       "      <td>0.0</td>\n",
       "      <td>4000</td>\n",
       "      <td>2252</td>\n",
       "      <td>20813</td>\n",
       "      <td>0.0</td>\n",
       "      <td>검멀레동굴 _106_42469399.jpg</td>\n",
       "      <td>검멀레동굴</td>\n",
       "    </tr>\n",
       "  </tbody>\n",
       "</table>\n",
       "</div>"
      ],
      "text/plain": [
       "   Unnamed: 0   bBoxW   bBoxH  bBoxX  width  height  categoryId  bBoxY  \\\n",
       "0           0  4000.0  2252.0    0.0   4000    2252       20813    0.0   \n",
       "1           1  4000.0  2252.0    0.0   4000    2252       20813    0.0   \n",
       "2           2  4000.0  2252.0    0.0   4000    2252       20813    0.0   \n",
       "3           3  4000.0  2252.0    0.0   4000    2252       20813    0.0   \n",
       "4           4  4000.0  2252.0    0.0   4000    2252       20813    0.0   \n",
       "\n",
       "                  fileName categoryName  \n",
       "0  검멀레동굴 _066_42469394.jpg        검멀레동굴  \n",
       "1  검멀레동굴 _067_42469395.jpg        검멀레동굴  \n",
       "2  검멀레동굴 _068_42469396.jpg        검멀레동굴  \n",
       "3  검멀레동굴 _104_42469397.jpg        검멀레동굴  \n",
       "4  검멀레동굴 _106_42469399.jpg        검멀레동굴  "
      ]
     },
     "execution_count": 42,
     "metadata": {},
     "output_type": "execute_result"
    }
   ],
   "source": [
    "dfTrain = pd.read_csv('../labelsCsv/trainLabels.csv')\n",
    "dfTrain.head()"
   ]
  },
  {
   "cell_type": "code",
   "execution_count": 46,
   "metadata": {
    "scrolled": true
   },
   "outputs": [
    {
     "data": {
      "text/plain": [
       "'제주절물자연휴양림'"
      ]
     },
     "execution_count": 46,
     "metadata": {},
     "output_type": "execute_result"
    }
   ],
   "source": [
    "dfTrain['categoryName'].unique()[np.argmax(confidence, axis=1)][0]"
   ]
  },
  {
   "cell_type": "code",
   "execution_count": 49,
   "metadata": {},
   "outputs": [
    {
     "data": {
      "text/plain": [
       "'김녕미로공원'"
      ]
     },
     "execution_count": 49,
     "metadata": {},
     "output_type": "execute_result"
    }
   ],
   "source": [
    "dfTrain['categoryName'].unique()[3]"
   ]
  },
  {
   "cell_type": "code",
   "execution_count": null,
   "metadata": {},
   "outputs": [],
   "source": []
  }
 ],
 "metadata": {
  "interpreter": {
   "hash": "9695e1afe6bd24ab3d12bcdaf245765a6ca7df3556ff5963a8b1ba99ba27e5c0"
  },
  "kernelspec": {
   "display_name": "Python 3",
   "language": "python",
   "name": "python3"
  },
  "language_info": {
   "codemirror_mode": {
    "name": "ipython",
    "version": 3
   },
   "file_extension": ".py",
   "mimetype": "text/x-python",
   "name": "python",
   "nbconvert_exporter": "python",
   "pygments_lexer": "ipython3",
   "version": "3.8.5"
  }
 },
 "nbformat": 4,
 "nbformat_minor": 2
}
