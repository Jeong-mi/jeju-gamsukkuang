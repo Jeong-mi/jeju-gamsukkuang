{
 "cells": [
  {
   "cell_type": "markdown",
   "metadata": {},
   "source": [
    "## ResNet101"
   ]
  },
  {
   "cell_type": "code",
   "execution_count": 1,
   "metadata": {
    "scrolled": true
   },
   "outputs": [
    {
     "name": "stderr",
     "output_type": "stream",
     "text": [
      "2022-06-18 11:10:06.353170: I tensorflow/core/platform/cpu_feature_guard.cc:193] This TensorFlow binary is optimized with oneAPI Deep Neural Network Library (oneDNN) to use the following CPU instructions in performance-critical operations:  AVX2 AVX512F FMA\n",
      "To enable them in other operations, rebuild TensorFlow with the appropriate compiler flags.\n",
      "2022-06-18 11:10:06.401261: I tensorflow/stream_executor/cuda/cuda_gpu_executor.cc:975] successful NUMA node read from SysFS had negative value (-1), but there must be at least one NUMA node, so returning NUMA node zero\n",
      "2022-06-18 11:10:06.445955: I tensorflow/stream_executor/cuda/cuda_gpu_executor.cc:975] successful NUMA node read from SysFS had negative value (-1), but there must be at least one NUMA node, so returning NUMA node zero\n",
      "2022-06-18 11:10:06.446246: I tensorflow/stream_executor/cuda/cuda_gpu_executor.cc:975] successful NUMA node read from SysFS had negative value (-1), but there must be at least one NUMA node, so returning NUMA node zero\n",
      "2022-06-18 11:10:07.153133: I tensorflow/stream_executor/cuda/cuda_gpu_executor.cc:975] successful NUMA node read from SysFS had negative value (-1), but there must be at least one NUMA node, so returning NUMA node zero\n",
      "2022-06-18 11:10:07.153460: I tensorflow/stream_executor/cuda/cuda_gpu_executor.cc:975] successful NUMA node read from SysFS had negative value (-1), but there must be at least one NUMA node, so returning NUMA node zero\n",
      "2022-06-18 11:10:07.153723: I tensorflow/stream_executor/cuda/cuda_gpu_executor.cc:975] successful NUMA node read from SysFS had negative value (-1), but there must be at least one NUMA node, so returning NUMA node zero\n",
      "2022-06-18 11:10:07.153936: I tensorflow/core/common_runtime/gpu/gpu_device.cc:1532] Created device /device:GPU:0 with 13690 MB memory:  -> device: 0, name: Tesla T4, pci bus id: 0000:00:04.0, compute capability: 7.5\n"
     ]
    },
    {
     "data": {
      "text/plain": [
       "[name: \"/device:CPU:0\"\n",
       " device_type: \"CPU\"\n",
       " memory_limit: 268435456\n",
       " locality {\n",
       " }\n",
       " incarnation: 3338586713810101233\n",
       " xla_global_id: -1,\n",
       " name: \"/device:GPU:0\"\n",
       " device_type: \"GPU\"\n",
       " memory_limit: 14355857408\n",
       " locality {\n",
       "   bus_id: 1\n",
       "   links {\n",
       "   }\n",
       " }\n",
       " incarnation: 11565486670458986089\n",
       " physical_device_desc: \"device: 0, name: Tesla T4, pci bus id: 0000:00:04.0, compute capability: 7.5\"\n",
       " xla_global_id: 416903419]"
      ]
     },
     "execution_count": 1,
     "metadata": {},
     "output_type": "execute_result"
    }
   ],
   "source": [
    "from tensorflow.python.client import device_lib\n",
    "device_lib.list_local_devices()"
   ]
  },
  {
   "cell_type": "code",
   "execution_count": 2,
   "metadata": {},
   "outputs": [],
   "source": [
    "import tensorflow as tf\n",
    "from tensorflow.keras.preprocessing.image import ImageDataGenerator, img_to_array, load_img\n",
    "\n",
    "from tensorflow.keras.layers import *\n",
    "from tensorflow.keras.callbacks import ModelCheckpoint, EarlyStopping\n",
    "from tensorflow.keras.applications import ResNet101\n",
    "\n",
    "import os\n",
    "import pandas as pd\n",
    "import numpy as np\n",
    "\n",
    "import matplotlib.pyplot as plt\n",
    "%matplotlib inline\n",
    "\n",
    "import datetime\n",
    "import math"
   ]
  },
  {
   "cell_type": "code",
   "execution_count": 12,
   "metadata": {},
   "outputs": [],
   "source": [
    "trainImagePath = '../dataSet/splitImages/train'\n",
    "validationImagePath = '../dataSet/splitImages/val'\n",
    "testImagePath = '../dataSet/splitImages/test'\n",
    "checkpointPath = '../checkpoints/epoch_{epoch:04d}.ckpt'\n",
    "logsPath = '../logs/fit/'+datetime.datetime.now().strftime(\"%Y%m%d-%H%M%S\")\n",
    "bestCheckpointPath = '../model/best/best_model'\n",
    "\n",
    "batchSize = 32\n",
    "imageWidth = 224\n",
    "imageHeight = 224\n",
    "imageChannel = 3\n",
    "dropRate = 0.0\n"
   ]
  },
  {
   "cell_type": "markdown",
   "metadata": {},
   "source": [
    "### 이미지 데이터 생성"
   ]
  },
  {
   "cell_type": "markdown",
   "metadata": {},
   "source": [
    "ImageDataGenerator (train, validation)"
   ]
  },
  {
   "cell_type": "code",
   "execution_count": 4,
   "metadata": {},
   "outputs": [],
   "source": [
    "trainDataGen = ImageDataGenerator(rescale=1./255,\n",
    "                                  rotation_range = 30,\n",
    "                                  width_shift_range=0.1,\n",
    "                                  height_shift_range=0.1,\n",
    "                                  shear_range=20,\n",
    "                                  zoom_range=0.3,\n",
    "                                  horizontal_flip=False,\n",
    "                                  vertical_flip=False,\n",
    "                                  brightness_range=[0.7, 1.3],\n",
    "                                  fill_mode='nearest',\n",
    "                                  )"
   ]
  },
  {
   "cell_type": "markdown",
   "metadata": {},
   "source": [
    "train set"
   ]
  },
  {
   "cell_type": "code",
   "execution_count": 5,
   "metadata": {},
   "outputs": [
    {
     "name": "stdout",
     "output_type": "stream",
     "text": [
      "Found 7108 images belonging to 50 classes.\n"
     ]
    }
   ],
   "source": [
    "trainGenSet = trainDataGen.flow_from_directory(\n",
    "    trainImagePath,\n",
    "    batch_size=batchSize,\n",
    "    target_size=(imageWidth,imageHeight),\n",
    "    class_mode='categorical',\n",
    "    shuffle=True\n",
    ")"
   ]
  },
  {
   "cell_type": "markdown",
   "metadata": {},
   "source": [
    "validation set"
   ]
  },
  {
   "cell_type": "code",
   "execution_count": 6,
   "metadata": {},
   "outputs": [
    {
     "name": "stdout",
     "output_type": "stream",
     "text": [
      "Found 870 images belonging to 50 classes.\n"
     ]
    }
   ],
   "source": [
    "validationGenSet = trainDataGen.flow_from_directory(\n",
    "    validationImagePath,\n",
    "    batch_size=batchSize,\n",
    "    target_size=(imageWidth,imageHeight),\n",
    "    class_mode='categorical',\n",
    ")"
   ]
  },
  {
   "cell_type": "markdown",
   "metadata": {},
   "source": [
    "ImageDataGenerator (train, validation)"
   ]
  },
  {
   "cell_type": "code",
   "execution_count": 7,
   "metadata": {},
   "outputs": [],
   "source": [
    "testDataGen = ImageDataGenerator(rescale=1./255)"
   ]
  },
  {
   "cell_type": "markdown",
   "metadata": {},
   "source": [
    "test set"
   ]
  },
  {
   "cell_type": "code",
   "execution_count": 8,
   "metadata": {},
   "outputs": [
    {
     "name": "stdout",
     "output_type": "stream",
     "text": [
      "Found 929 images belonging to 50 classes.\n"
     ]
    }
   ],
   "source": [
    "testGenSet = testDataGen.flow_from_directory(\n",
    "    testImagePath,\n",
    "    batch_size=batchSize,\n",
    "    target_size=(imageWidth,imageHeight),\n",
    "    class_mode='categorical'\n",
    ")"
   ]
  },
  {
   "cell_type": "markdown",
   "metadata": {},
   "source": [
    "make model"
   ]
  },
  {
   "cell_type": "code",
   "execution_count": 14,
   "metadata": {},
   "outputs": [
    {
     "name": "stdout",
     "output_type": "stream",
     "text": [
      "Model: \"sequential_3\"\n",
      "_________________________________________________________________\n",
      " Layer (type)                Output Shape              Param #   \n",
      "=================================================================\n",
      " resnet101 (Functional)      (None, 7, 7, 2048)        42658176  \n",
      "                                                                 \n",
      " global_average_pooling2d_4   (None, 2048)             0         \n",
      " (GlobalAveragePooling2D)                                        \n",
      "                                                                 \n",
      " dropout_5 (Dropout)         (None, 2048)              0         \n",
      "                                                                 \n",
      " dense_7 (Dense)             (None, 1024)              2098176   \n",
      "                                                                 \n",
      " dropout_6 (Dropout)         (None, 1024)              0         \n",
      "                                                                 \n",
      " dense_8 (Dense)             (None, 512)               524800    \n",
      "                                                                 \n",
      " dropout_7 (Dropout)         (None, 512)               0         \n",
      "                                                                 \n",
      " dense_9 (Dense)             (None, 256)               131328    \n",
      "                                                                 \n",
      " dense_10 (Dense)            (None, 50)                12850     \n",
      "                                                                 \n",
      "=================================================================\n",
      "Total params: 45,425,330\n",
      "Trainable params: 45,319,986\n",
      "Non-trainable params: 105,344\n",
      "_________________________________________________________________\n"
     ]
    }
   ],
   "source": [
    "model = tf.keras.Sequential([\n",
    "  ResNet101(include_top=False, weights='imagenet', input_shape=(imageWidth, imageHeight, imageChannel)),\n",
    "  GlobalAveragePooling2D(),\n",
    "  Dropout(rate=dropRate),\n",
    "  Dense(1024, activation='relu' ),\n",
    "  Dropout(rate=dropRate),\n",
    "  Dense(512, activation='relu' ),\n",
    "  Dropout(rate=dropRate),\n",
    "  Dense(256, activation='relu' ),\n",
    "  Dense(50, activation='softmax'),\n",
    "])\n",
    "\n",
    "model.summary()"
   ]
  },
  {
   "cell_type": "markdown",
   "metadata": {},
   "source": [
    "model compile"
   ]
  },
  {
   "cell_type": "code",
   "execution_count": 15,
   "metadata": {},
   "outputs": [],
   "source": [
    "model.compile(loss='categorical_crossentropy',\n",
    "             optimizer='adam',\n",
    "             metrics=['accuracy'])"
   ]
  },
  {
   "cell_type": "markdown",
   "metadata": {},
   "source": [
    "difine callbacks"
   ]
  },
  {
   "cell_type": "code",
   "execution_count": 16,
   "metadata": {},
   "outputs": [],
   "source": [
    "checkpoint = ModelCheckpoint(\n",
    "                        checkpointPath, monitor='val_loss', verbose=0, save_best_only=False,\n",
    "                        save_weights_only=False, mode='auto', save_freq='epoch'\n",
    "                    )\n"
   ]
  },
  {
   "cell_type": "code",
   "execution_count": 17,
   "metadata": {},
   "outputs": [],
   "source": [
    "earlyStopping = [\n",
    "                    EarlyStopping(monitor='val_loss', patience=10, ),\n",
    "                    ModelCheckpoint( bestCheckpointPath, monitor='val_loss', save_best_only=True )\n",
    "                ]"
   ]
  },
  {
   "cell_type": "code",
   "execution_count": 18,
   "metadata": {},
   "outputs": [],
   "source": [
    "tensorboard = tf.keras.callbacks.TensorBoard(logsPath, histogram_freq=1)"
   ]
  },
  {
   "cell_type": "markdown",
   "metadata": {},
   "source": [
    "model fit"
   ]
  },
  {
   "cell_type": "code",
   "execution_count": 19,
   "metadata": {
    "scrolled": true
   },
   "outputs": [
    {
     "name": "stdout",
     "output_type": "stream",
     "text": [
      "Epoch 1/200\n"
     ]
    },
    {
     "name": "stderr",
     "output_type": "stream",
     "text": [
      "2022-06-18 11:18:26.934562: I tensorflow/stream_executor/cuda/cuda_dnn.cc:384] Loaded cuDNN version 8303\n"
     ]
    },
    {
     "name": "stdout",
     "output_type": "stream",
     "text": [
      "223/223 [==============================] - ETA: 0s - loss: 1.4160 - accuracy: 0.6284"
     ]
    },
    {
     "name": "stderr",
     "output_type": "stream",
     "text": [
      "WARNING:absl:Found untraced functions such as _jit_compiled_convolution_op, _jit_compiled_convolution_op, _jit_compiled_convolution_op, _jit_compiled_convolution_op, _jit_compiled_convolution_op while saving (showing 5 of 104). These functions will not be directly callable after loading.\n"
     ]
    },
    {
     "name": "stdout",
     "output_type": "stream",
     "text": [
      "INFO:tensorflow:Assets written to: ../checkpoints/epoch_0001.ckpt/assets\n"
     ]
    },
    {
     "name": "stderr",
     "output_type": "stream",
     "text": [
      "INFO:tensorflow:Assets written to: ../checkpoints/epoch_0001.ckpt/assets\n",
      "WARNING:absl:Found untraced functions such as _jit_compiled_convolution_op, _jit_compiled_convolution_op, _jit_compiled_convolution_op, _jit_compiled_convolution_op, _jit_compiled_convolution_op while saving (showing 5 of 104). These functions will not be directly callable after loading.\n"
     ]
    },
    {
     "name": "stdout",
     "output_type": "stream",
     "text": [
      "INFO:tensorflow:Assets written to: ../model/best/best_model/assets\n"
     ]
    },
    {
     "name": "stderr",
     "output_type": "stream",
     "text": [
      "INFO:tensorflow:Assets written to: ../model/best/best_model/assets\n",
      "2022-06-18 11:30:33.877931: W tensorflow/core/framework/cpu_allocator_impl.cc:82] Allocation of 35389440 exceeds 10% of free system memory.\n",
      "2022-06-18 11:30:33.918087: W tensorflow/core/framework/cpu_allocator_impl.cc:82] Allocation of 31457280 exceeds 10% of free system memory.\n",
      "2022-06-18 11:30:34.006993: W tensorflow/core/framework/cpu_allocator_impl.cc:82] Allocation of 35389440 exceeds 10% of free system memory.\n",
      "2022-06-18 11:30:34.102867: W tensorflow/core/framework/cpu_allocator_impl.cc:82] Allocation of 35389440 exceeds 10% of free system memory.\n",
      "2022-06-18 11:30:34.195516: W tensorflow/core/framework/cpu_allocator_impl.cc:82] Allocation of 35389440 exceeds 10% of free system memory.\n"
     ]
    },
    {
     "name": "stdout",
     "output_type": "stream",
     "text": [
      "223/223 [==============================] - 749s 3s/step - loss: 1.4160 - accuracy: 0.6284 - val_loss: 444.6359 - val_accuracy: 0.0195\n",
      "Epoch 2/200\n",
      "223/223 [==============================] - ETA: 0s - loss: 0.3612 - accuracy: 0.8958"
     ]
    },
    {
     "name": "stderr",
     "output_type": "stream",
     "text": [
      "WARNING:absl:Found untraced functions such as _jit_compiled_convolution_op, _jit_compiled_convolution_op, _jit_compiled_convolution_op, _jit_compiled_convolution_op, _jit_compiled_convolution_op while saving (showing 5 of 104). These functions will not be directly callable after loading.\n"
     ]
    },
    {
     "name": "stdout",
     "output_type": "stream",
     "text": [
      "INFO:tensorflow:Assets written to: ../checkpoints/epoch_0002.ckpt/assets\n"
     ]
    },
    {
     "name": "stderr",
     "output_type": "stream",
     "text": [
      "INFO:tensorflow:Assets written to: ../checkpoints/epoch_0002.ckpt/assets\n",
      "WARNING:absl:Found untraced functions such as _jit_compiled_convolution_op, _jit_compiled_convolution_op, _jit_compiled_convolution_op, _jit_compiled_convolution_op, _jit_compiled_convolution_op while saving (showing 5 of 104). These functions will not be directly callable after loading.\n"
     ]
    },
    {
     "name": "stdout",
     "output_type": "stream",
     "text": [
      "INFO:tensorflow:Assets written to: ../model/best/best_model/assets\n"
     ]
    },
    {
     "name": "stderr",
     "output_type": "stream",
     "text": [
      "INFO:tensorflow:Assets written to: ../model/best/best_model/assets\n"
     ]
    },
    {
     "name": "stdout",
     "output_type": "stream",
     "text": [
      "223/223 [==============================] - 771s 3s/step - loss: 0.3612 - accuracy: 0.8958 - val_loss: 16.4025 - val_accuracy: 0.0287\n",
      "Epoch 3/200\n",
      "223/223 [==============================] - ETA: 0s - loss: 0.2846 - accuracy: 0.9216"
     ]
    },
    {
     "name": "stderr",
     "output_type": "stream",
     "text": [
      "WARNING:absl:Found untraced functions such as _jit_compiled_convolution_op, _jit_compiled_convolution_op, _jit_compiled_convolution_op, _jit_compiled_convolution_op, _jit_compiled_convolution_op while saving (showing 5 of 104). These functions will not be directly callable after loading.\n"
     ]
    },
    {
     "name": "stdout",
     "output_type": "stream",
     "text": [
      "INFO:tensorflow:Assets written to: ../checkpoints/epoch_0003.ckpt/assets\n"
     ]
    },
    {
     "name": "stderr",
     "output_type": "stream",
     "text": [
      "INFO:tensorflow:Assets written to: ../checkpoints/epoch_0003.ckpt/assets\n",
      "WARNING:absl:Found untraced functions such as _jit_compiled_convolution_op, _jit_compiled_convolution_op, _jit_compiled_convolution_op, _jit_compiled_convolution_op, _jit_compiled_convolution_op while saving (showing 5 of 104). These functions will not be directly callable after loading.\n"
     ]
    },
    {
     "name": "stdout",
     "output_type": "stream",
     "text": [
      "INFO:tensorflow:Assets written to: ../model/best/best_model/assets\n"
     ]
    },
    {
     "name": "stderr",
     "output_type": "stream",
     "text": [
      "INFO:tensorflow:Assets written to: ../model/best/best_model/assets\n"
     ]
    },
    {
     "name": "stdout",
     "output_type": "stream",
     "text": [
      "223/223 [==============================] - 719s 3s/step - loss: 0.2846 - accuracy: 0.9216 - val_loss: 5.0555 - val_accuracy: 0.0253\n",
      "Epoch 4/200\n",
      "223/223 [==============================] - ETA: 0s - loss: 0.2012 - accuracy: 0.9406"
     ]
    },
    {
     "name": "stderr",
     "output_type": "stream",
     "text": [
      "WARNING:absl:Found untraced functions such as _jit_compiled_convolution_op, _jit_compiled_convolution_op, _jit_compiled_convolution_op, _jit_compiled_convolution_op, _jit_compiled_convolution_op while saving (showing 5 of 104). These functions will not be directly callable after loading.\n"
     ]
    },
    {
     "name": "stdout",
     "output_type": "stream",
     "text": [
      "INFO:tensorflow:Assets written to: ../checkpoints/epoch_0004.ckpt/assets\n"
     ]
    },
    {
     "name": "stderr",
     "output_type": "stream",
     "text": [
      "INFO:tensorflow:Assets written to: ../checkpoints/epoch_0004.ckpt/assets\n",
      "WARNING:absl:Found untraced functions such as _jit_compiled_convolution_op, _jit_compiled_convolution_op, _jit_compiled_convolution_op, _jit_compiled_convolution_op, _jit_compiled_convolution_op while saving (showing 5 of 104). These functions will not be directly callable after loading.\n"
     ]
    },
    {
     "name": "stdout",
     "output_type": "stream",
     "text": [
      "INFO:tensorflow:Assets written to: ../model/best/best_model/assets\n"
     ]
    },
    {
     "name": "stderr",
     "output_type": "stream",
     "text": [
      "INFO:tensorflow:Assets written to: ../model/best/best_model/assets\n"
     ]
    },
    {
     "name": "stdout",
     "output_type": "stream",
     "text": [
      "223/223 [==============================] - 749s 3s/step - loss: 0.2012 - accuracy: 0.9406 - val_loss: 2.7453 - val_accuracy: 0.3184\n",
      "Epoch 5/200\n",
      "223/223 [==============================] - ETA: 0s - loss: 0.1196 - accuracy: 0.9665"
     ]
    },
    {
     "name": "stderr",
     "output_type": "stream",
     "text": [
      "WARNING:absl:Found untraced functions such as _jit_compiled_convolution_op, _jit_compiled_convolution_op, _jit_compiled_convolution_op, _jit_compiled_convolution_op, _jit_compiled_convolution_op while saving (showing 5 of 104). These functions will not be directly callable after loading.\n"
     ]
    },
    {
     "name": "stdout",
     "output_type": "stream",
     "text": [
      "INFO:tensorflow:Assets written to: ../checkpoints/epoch_0005.ckpt/assets\n"
     ]
    },
    {
     "name": "stderr",
     "output_type": "stream",
     "text": [
      "INFO:tensorflow:Assets written to: ../checkpoints/epoch_0005.ckpt/assets\n",
      "WARNING:absl:Found untraced functions such as _jit_compiled_convolution_op, _jit_compiled_convolution_op, _jit_compiled_convolution_op, _jit_compiled_convolution_op, _jit_compiled_convolution_op while saving (showing 5 of 104). These functions will not be directly callable after loading.\n"
     ]
    },
    {
     "name": "stdout",
     "output_type": "stream",
     "text": [
      "INFO:tensorflow:Assets written to: ../model/best/best_model/assets\n"
     ]
    },
    {
     "name": "stderr",
     "output_type": "stream",
     "text": [
      "INFO:tensorflow:Assets written to: ../model/best/best_model/assets\n"
     ]
    },
    {
     "name": "stdout",
     "output_type": "stream",
     "text": [
      "223/223 [==============================] - 715s 3s/step - loss: 0.1196 - accuracy: 0.9665 - val_loss: 1.2942 - val_accuracy: 0.7506\n",
      "Epoch 6/200\n",
      "223/223 [==============================] - ETA: 0s - loss: 0.1505 - accuracy: 0.9605"
     ]
    },
    {
     "name": "stderr",
     "output_type": "stream",
     "text": [
      "WARNING:absl:Found untraced functions such as _jit_compiled_convolution_op, _jit_compiled_convolution_op, _jit_compiled_convolution_op, _jit_compiled_convolution_op, _jit_compiled_convolution_op while saving (showing 5 of 104). These functions will not be directly callable after loading.\n"
     ]
    },
    {
     "name": "stdout",
     "output_type": "stream",
     "text": [
      "INFO:tensorflow:Assets written to: ../checkpoints/epoch_0006.ckpt/assets\n"
     ]
    },
    {
     "name": "stderr",
     "output_type": "stream",
     "text": [
      "INFO:tensorflow:Assets written to: ../checkpoints/epoch_0006.ckpt/assets\n"
     ]
    },
    {
     "name": "stdout",
     "output_type": "stream",
     "text": [
      "223/223 [==============================] - 672s 3s/step - loss: 0.1505 - accuracy: 0.9605 - val_loss: 2.5587 - val_accuracy: 0.4862\n",
      "Epoch 7/200\n",
      "223/223 [==============================] - ETA: 0s - loss: 0.1201 - accuracy: 0.9664"
     ]
    },
    {
     "name": "stderr",
     "output_type": "stream",
     "text": [
      "WARNING:absl:Found untraced functions such as _jit_compiled_convolution_op, _jit_compiled_convolution_op, _jit_compiled_convolution_op, _jit_compiled_convolution_op, _jit_compiled_convolution_op while saving (showing 5 of 104). These functions will not be directly callable after loading.\n"
     ]
    },
    {
     "name": "stdout",
     "output_type": "stream",
     "text": [
      "INFO:tensorflow:Assets written to: ../checkpoints/epoch_0007.ckpt/assets\n"
     ]
    },
    {
     "name": "stderr",
     "output_type": "stream",
     "text": [
      "INFO:tensorflow:Assets written to: ../checkpoints/epoch_0007.ckpt/assets\n"
     ]
    },
    {
     "name": "stdout",
     "output_type": "stream",
     "text": [
      "223/223 [==============================] - 673s 3s/step - loss: 0.1201 - accuracy: 0.9664 - val_loss: 1.4703 - val_accuracy: 0.7161\n",
      "Epoch 8/200\n",
      "223/223 [==============================] - ETA: 0s - loss: 0.1465 - accuracy: 0.9626"
     ]
    },
    {
     "name": "stderr",
     "output_type": "stream",
     "text": [
      "WARNING:absl:Found untraced functions such as _jit_compiled_convolution_op, _jit_compiled_convolution_op, _jit_compiled_convolution_op, _jit_compiled_convolution_op, _jit_compiled_convolution_op while saving (showing 5 of 104). These functions will not be directly callable after loading.\n"
     ]
    },
    {
     "name": "stdout",
     "output_type": "stream",
     "text": [
      "INFO:tensorflow:Assets written to: ../checkpoints/epoch_0008.ckpt/assets\n"
     ]
    },
    {
     "name": "stderr",
     "output_type": "stream",
     "text": [
      "INFO:tensorflow:Assets written to: ../checkpoints/epoch_0008.ckpt/assets\n"
     ]
    },
    {
     "name": "stdout",
     "output_type": "stream",
     "text": [
      "223/223 [==============================] - 748s 3s/step - loss: 0.1465 - accuracy: 0.9626 - val_loss: 2.7326 - val_accuracy: 0.4747\n",
      "Epoch 9/200\n",
      "223/223 [==============================] - ETA: 0s - loss: 0.0904 - accuracy: 0.9754"
     ]
    },
    {
     "name": "stderr",
     "output_type": "stream",
     "text": [
      "WARNING:absl:Found untraced functions such as _jit_compiled_convolution_op, _jit_compiled_convolution_op, _jit_compiled_convolution_op, _jit_compiled_convolution_op, _jit_compiled_convolution_op while saving (showing 5 of 104). These functions will not be directly callable after loading.\n"
     ]
    },
    {
     "name": "stdout",
     "output_type": "stream",
     "text": [
      "INFO:tensorflow:Assets written to: ../checkpoints/epoch_0009.ckpt/assets\n"
     ]
    },
    {
     "name": "stderr",
     "output_type": "stream",
     "text": [
      "INFO:tensorflow:Assets written to: ../checkpoints/epoch_0009.ckpt/assets\n",
      "WARNING:absl:Found untraced functions such as _jit_compiled_convolution_op, _jit_compiled_convolution_op, _jit_compiled_convolution_op, _jit_compiled_convolution_op, _jit_compiled_convolution_op while saving (showing 5 of 104). These functions will not be directly callable after loading.\n"
     ]
    },
    {
     "name": "stdout",
     "output_type": "stream",
     "text": [
      "INFO:tensorflow:Assets written to: ../model/best/best_model/assets\n"
     ]
    },
    {
     "name": "stderr",
     "output_type": "stream",
     "text": [
      "INFO:tensorflow:Assets written to: ../model/best/best_model/assets\n"
     ]
    },
    {
     "name": "stdout",
     "output_type": "stream",
     "text": [
      "223/223 [==============================] - 759s 3s/step - loss: 0.0904 - accuracy: 0.9754 - val_loss: 0.3796 - val_accuracy: 0.8931\n",
      "Epoch 10/200\n",
      "223/223 [==============================] - ETA: 0s - loss: 0.1315 - accuracy: 0.9660"
     ]
    },
    {
     "name": "stderr",
     "output_type": "stream",
     "text": [
      "WARNING:absl:Found untraced functions such as _jit_compiled_convolution_op, _jit_compiled_convolution_op, _jit_compiled_convolution_op, _jit_compiled_convolution_op, _jit_compiled_convolution_op while saving (showing 5 of 104). These functions will not be directly callable after loading.\n"
     ]
    },
    {
     "name": "stdout",
     "output_type": "stream",
     "text": [
      "INFO:tensorflow:Assets written to: ../checkpoints/epoch_0010.ckpt/assets\n"
     ]
    },
    {
     "name": "stderr",
     "output_type": "stream",
     "text": [
      "INFO:tensorflow:Assets written to: ../checkpoints/epoch_0010.ckpt/assets\n"
     ]
    },
    {
     "name": "stdout",
     "output_type": "stream",
     "text": [
      "223/223 [==============================] - 687s 3s/step - loss: 0.1315 - accuracy: 0.9660 - val_loss: 0.4269 - val_accuracy: 0.9172\n",
      "Epoch 11/200\n",
      "223/223 [==============================] - ETA: 0s - loss: 0.1008 - accuracy: 0.9733"
     ]
    },
    {
     "name": "stderr",
     "output_type": "stream",
     "text": [
      "WARNING:absl:Found untraced functions such as _jit_compiled_convolution_op, _jit_compiled_convolution_op, _jit_compiled_convolution_op, _jit_compiled_convolution_op, _jit_compiled_convolution_op while saving (showing 5 of 104). These functions will not be directly callable after loading.\n"
     ]
    },
    {
     "name": "stdout",
     "output_type": "stream",
     "text": [
      "INFO:tensorflow:Assets written to: ../checkpoints/epoch_0011.ckpt/assets\n"
     ]
    },
    {
     "name": "stderr",
     "output_type": "stream",
     "text": [
      "INFO:tensorflow:Assets written to: ../checkpoints/epoch_0011.ckpt/assets\n",
      "WARNING:absl:Found untraced functions such as _jit_compiled_convolution_op, _jit_compiled_convolution_op, _jit_compiled_convolution_op, _jit_compiled_convolution_op, _jit_compiled_convolution_op while saving (showing 5 of 104). These functions will not be directly callable after loading.\n"
     ]
    },
    {
     "name": "stdout",
     "output_type": "stream",
     "text": [
      "INFO:tensorflow:Assets written to: ../model/best/best_model/assets\n"
     ]
    },
    {
     "name": "stderr",
     "output_type": "stream",
     "text": [
      "INFO:tensorflow:Assets written to: ../model/best/best_model/assets\n"
     ]
    },
    {
     "name": "stdout",
     "output_type": "stream",
     "text": [
      "223/223 [==============================] - 773s 3s/step - loss: 0.1008 - accuracy: 0.9733 - val_loss: 0.3768 - val_accuracy: 0.9011\n",
      "Epoch 12/200\n",
      "223/223 [==============================] - ETA: 0s - loss: 0.1007 - accuracy: 0.9731"
     ]
    },
    {
     "name": "stderr",
     "output_type": "stream",
     "text": [
      "WARNING:absl:Found untraced functions such as _jit_compiled_convolution_op, _jit_compiled_convolution_op, _jit_compiled_convolution_op, _jit_compiled_convolution_op, _jit_compiled_convolution_op while saving (showing 5 of 104). These functions will not be directly callable after loading.\n"
     ]
    },
    {
     "name": "stdout",
     "output_type": "stream",
     "text": [
      "INFO:tensorflow:Assets written to: ../checkpoints/epoch_0012.ckpt/assets\n"
     ]
    },
    {
     "name": "stderr",
     "output_type": "stream",
     "text": [
      "INFO:tensorflow:Assets written to: ../checkpoints/epoch_0012.ckpt/assets\n"
     ]
    },
    {
     "name": "stdout",
     "output_type": "stream",
     "text": [
      "223/223 [==============================] - 689s 3s/step - loss: 0.1007 - accuracy: 0.9731 - val_loss: 3.6230 - val_accuracy: 0.5046\n",
      "Epoch 13/200\n",
      "223/223 [==============================] - ETA: 0s - loss: 0.0909 - accuracy: 0.9748"
     ]
    },
    {
     "name": "stderr",
     "output_type": "stream",
     "text": [
      "WARNING:absl:Found untraced functions such as _jit_compiled_convolution_op, _jit_compiled_convolution_op, _jit_compiled_convolution_op, _jit_compiled_convolution_op, _jit_compiled_convolution_op while saving (showing 5 of 104). These functions will not be directly callable after loading.\n"
     ]
    },
    {
     "name": "stdout",
     "output_type": "stream",
     "text": [
      "INFO:tensorflow:Assets written to: ../checkpoints/epoch_0013.ckpt/assets\n"
     ]
    },
    {
     "name": "stderr",
     "output_type": "stream",
     "text": [
      "INFO:tensorflow:Assets written to: ../checkpoints/epoch_0013.ckpt/assets\n"
     ]
    },
    {
     "name": "stdout",
     "output_type": "stream",
     "text": [
      "223/223 [==============================] - 692s 3s/step - loss: 0.0909 - accuracy: 0.9748 - val_loss: 0.8677 - val_accuracy: 0.8494\n",
      "Epoch 14/200\n",
      "223/223 [==============================] - ETA: 0s - loss: 0.0523 - accuracy: 0.9848"
     ]
    },
    {
     "name": "stderr",
     "output_type": "stream",
     "text": [
      "WARNING:absl:Found untraced functions such as _jit_compiled_convolution_op, _jit_compiled_convolution_op, _jit_compiled_convolution_op, _jit_compiled_convolution_op, _jit_compiled_convolution_op while saving (showing 5 of 104). These functions will not be directly callable after loading.\n"
     ]
    },
    {
     "name": "stdout",
     "output_type": "stream",
     "text": [
      "INFO:tensorflow:Assets written to: ../checkpoints/epoch_0014.ckpt/assets\n"
     ]
    },
    {
     "name": "stderr",
     "output_type": "stream",
     "text": [
      "INFO:tensorflow:Assets written to: ../checkpoints/epoch_0014.ckpt/assets\n",
      "WARNING:absl:Found untraced functions such as _jit_compiled_convolution_op, _jit_compiled_convolution_op, _jit_compiled_convolution_op, _jit_compiled_convolution_op, _jit_compiled_convolution_op while saving (showing 5 of 104). These functions will not be directly callable after loading.\n"
     ]
    },
    {
     "name": "stdout",
     "output_type": "stream",
     "text": [
      "INFO:tensorflow:Assets written to: ../model/best/best_model/assets\n"
     ]
    },
    {
     "name": "stderr",
     "output_type": "stream",
     "text": [
      "INFO:tensorflow:Assets written to: ../model/best/best_model/assets\n"
     ]
    },
    {
     "name": "stdout",
     "output_type": "stream",
     "text": [
      "223/223 [==============================] - 727s 3s/step - loss: 0.0523 - accuracy: 0.9848 - val_loss: 0.1174 - val_accuracy: 0.9713\n",
      "Epoch 15/200\n",
      "223/223 [==============================] - ETA: 0s - loss: 0.0986 - accuracy: 0.9752"
     ]
    },
    {
     "name": "stderr",
     "output_type": "stream",
     "text": [
      "WARNING:absl:Found untraced functions such as _jit_compiled_convolution_op, _jit_compiled_convolution_op, _jit_compiled_convolution_op, _jit_compiled_convolution_op, _jit_compiled_convolution_op while saving (showing 5 of 104). These functions will not be directly callable after loading.\n"
     ]
    },
    {
     "name": "stdout",
     "output_type": "stream",
     "text": [
      "INFO:tensorflow:Assets written to: ../checkpoints/epoch_0015.ckpt/assets\n"
     ]
    },
    {
     "name": "stderr",
     "output_type": "stream",
     "text": [
      "INFO:tensorflow:Assets written to: ../checkpoints/epoch_0015.ckpt/assets\n"
     ]
    },
    {
     "name": "stdout",
     "output_type": "stream",
     "text": [
      "223/223 [==============================] - 679s 3s/step - loss: 0.0986 - accuracy: 0.9752 - val_loss: 2.4505 - val_accuracy: 0.5207\n",
      "Epoch 16/200\n",
      "223/223 [==============================] - ETA: 0s - loss: 0.1366 - accuracy: 0.9638"
     ]
    },
    {
     "name": "stderr",
     "output_type": "stream",
     "text": [
      "WARNING:absl:Found untraced functions such as _jit_compiled_convolution_op, _jit_compiled_convolution_op, _jit_compiled_convolution_op, _jit_compiled_convolution_op, _jit_compiled_convolution_op while saving (showing 5 of 104). These functions will not be directly callable after loading.\n"
     ]
    },
    {
     "name": "stdout",
     "output_type": "stream",
     "text": [
      "INFO:tensorflow:Assets written to: ../checkpoints/epoch_0016.ckpt/assets\n"
     ]
    },
    {
     "name": "stderr",
     "output_type": "stream",
     "text": [
      "INFO:tensorflow:Assets written to: ../checkpoints/epoch_0016.ckpt/assets\n"
     ]
    },
    {
     "name": "stdout",
     "output_type": "stream",
     "text": [
      "223/223 [==============================] - 675s 3s/step - loss: 0.1366 - accuracy: 0.9638 - val_loss: 1.9944 - val_accuracy: 0.7184\n",
      "Epoch 17/200\n",
      "223/223 [==============================] - ETA: 0s - loss: 0.0745 - accuracy: 0.9806"
     ]
    },
    {
     "name": "stderr",
     "output_type": "stream",
     "text": [
      "WARNING:absl:Found untraced functions such as _jit_compiled_convolution_op, _jit_compiled_convolution_op, _jit_compiled_convolution_op, _jit_compiled_convolution_op, _jit_compiled_convolution_op while saving (showing 5 of 104). These functions will not be directly callable after loading.\n"
     ]
    },
    {
     "name": "stdout",
     "output_type": "stream",
     "text": [
      "INFO:tensorflow:Assets written to: ../checkpoints/epoch_0017.ckpt/assets\n"
     ]
    },
    {
     "name": "stderr",
     "output_type": "stream",
     "text": [
      "INFO:tensorflow:Assets written to: ../checkpoints/epoch_0017.ckpt/assets\n"
     ]
    },
    {
     "name": "stdout",
     "output_type": "stream",
     "text": [
      "223/223 [==============================] - 669s 3s/step - loss: 0.0745 - accuracy: 0.9806 - val_loss: 6.7178 - val_accuracy: 0.2977\n",
      "Epoch 18/200\n",
      "223/223 [==============================] - ETA: 0s - loss: 0.0836 - accuracy: 0.9792"
     ]
    },
    {
     "name": "stderr",
     "output_type": "stream",
     "text": [
      "WARNING:absl:Found untraced functions such as _jit_compiled_convolution_op, _jit_compiled_convolution_op, _jit_compiled_convolution_op, _jit_compiled_convolution_op, _jit_compiled_convolution_op while saving (showing 5 of 104). These functions will not be directly callable after loading.\n"
     ]
    },
    {
     "name": "stdout",
     "output_type": "stream",
     "text": [
      "INFO:tensorflow:Assets written to: ../checkpoints/epoch_0018.ckpt/assets\n"
     ]
    },
    {
     "name": "stderr",
     "output_type": "stream",
     "text": [
      "INFO:tensorflow:Assets written to: ../checkpoints/epoch_0018.ckpt/assets\n"
     ]
    },
    {
     "name": "stdout",
     "output_type": "stream",
     "text": [
      "223/223 [==============================] - 681s 3s/step - loss: 0.0836 - accuracy: 0.9792 - val_loss: 0.4472 - val_accuracy: 0.9103\n",
      "Epoch 19/200\n",
      "223/223 [==============================] - ETA: 0s - loss: 0.0504 - accuracy: 0.9886"
     ]
    },
    {
     "name": "stderr",
     "output_type": "stream",
     "text": [
      "WARNING:absl:Found untraced functions such as _jit_compiled_convolution_op, _jit_compiled_convolution_op, _jit_compiled_convolution_op, _jit_compiled_convolution_op, _jit_compiled_convolution_op while saving (showing 5 of 104). These functions will not be directly callable after loading.\n"
     ]
    },
    {
     "name": "stdout",
     "output_type": "stream",
     "text": [
      "INFO:tensorflow:Assets written to: ../checkpoints/epoch_0019.ckpt/assets\n"
     ]
    },
    {
     "name": "stderr",
     "output_type": "stream",
     "text": [
      "INFO:tensorflow:Assets written to: ../checkpoints/epoch_0019.ckpt/assets\n"
     ]
    },
    {
     "name": "stdout",
     "output_type": "stream",
     "text": [
      "223/223 [==============================] - 692s 3s/step - loss: 0.0504 - accuracy: 0.9886 - val_loss: 0.7081 - val_accuracy: 0.8851\n",
      "Epoch 20/200\n",
      "223/223 [==============================] - ETA: 0s - loss: 0.0785 - accuracy: 0.9797"
     ]
    },
    {
     "name": "stderr",
     "output_type": "stream",
     "text": [
      "WARNING:absl:Found untraced functions such as _jit_compiled_convolution_op, _jit_compiled_convolution_op, _jit_compiled_convolution_op, _jit_compiled_convolution_op, _jit_compiled_convolution_op while saving (showing 5 of 104). These functions will not be directly callable after loading.\n"
     ]
    },
    {
     "name": "stdout",
     "output_type": "stream",
     "text": [
      "INFO:tensorflow:Assets written to: ../checkpoints/epoch_0020.ckpt/assets\n"
     ]
    },
    {
     "name": "stderr",
     "output_type": "stream",
     "text": [
      "INFO:tensorflow:Assets written to: ../checkpoints/epoch_0020.ckpt/assets\n"
     ]
    },
    {
     "name": "stdout",
     "output_type": "stream",
     "text": [
      "223/223 [==============================] - 688s 3s/step - loss: 0.0785 - accuracy: 0.9797 - val_loss: 3.2133 - val_accuracy: 0.5609\n",
      "Epoch 21/200\n",
      "223/223 [==============================] - ETA: 0s - loss: 0.1237 - accuracy: 0.9689"
     ]
    },
    {
     "name": "stderr",
     "output_type": "stream",
     "text": [
      "WARNING:absl:Found untraced functions such as _jit_compiled_convolution_op, _jit_compiled_convolution_op, _jit_compiled_convolution_op, _jit_compiled_convolution_op, _jit_compiled_convolution_op while saving (showing 5 of 104). These functions will not be directly callable after loading.\n"
     ]
    },
    {
     "name": "stdout",
     "output_type": "stream",
     "text": [
      "INFO:tensorflow:Assets written to: ../checkpoints/epoch_0021.ckpt/assets\n"
     ]
    },
    {
     "name": "stderr",
     "output_type": "stream",
     "text": [
      "INFO:tensorflow:Assets written to: ../checkpoints/epoch_0021.ckpt/assets\n"
     ]
    },
    {
     "name": "stdout",
     "output_type": "stream",
     "text": [
      "223/223 [==============================] - 689s 3s/step - loss: 0.1237 - accuracy: 0.9689 - val_loss: 0.7356 - val_accuracy: 0.8276\n",
      "Epoch 22/200\n",
      "223/223 [==============================] - ETA: 0s - loss: 0.0697 - accuracy: 0.9827"
     ]
    },
    {
     "name": "stderr",
     "output_type": "stream",
     "text": [
      "WARNING:absl:Found untraced functions such as _jit_compiled_convolution_op, _jit_compiled_convolution_op, _jit_compiled_convolution_op, _jit_compiled_convolution_op, _jit_compiled_convolution_op while saving (showing 5 of 104). These functions will not be directly callable after loading.\n"
     ]
    },
    {
     "name": "stdout",
     "output_type": "stream",
     "text": [
      "INFO:tensorflow:Assets written to: ../checkpoints/epoch_0022.ckpt/assets\n"
     ]
    },
    {
     "name": "stderr",
     "output_type": "stream",
     "text": [
      "INFO:tensorflow:Assets written to: ../checkpoints/epoch_0022.ckpt/assets\n"
     ]
    },
    {
     "name": "stdout",
     "output_type": "stream",
     "text": [
      "223/223 [==============================] - 680s 3s/step - loss: 0.0697 - accuracy: 0.9827 - val_loss: 0.1480 - val_accuracy: 0.9667\n",
      "Epoch 23/200\n",
      "223/223 [==============================] - ETA: 0s - loss: 0.0605 - accuracy: 0.9848"
     ]
    },
    {
     "name": "stderr",
     "output_type": "stream",
     "text": [
      "WARNING:absl:Found untraced functions such as _jit_compiled_convolution_op, _jit_compiled_convolution_op, _jit_compiled_convolution_op, _jit_compiled_convolution_op, _jit_compiled_convolution_op while saving (showing 5 of 104). These functions will not be directly callable after loading.\n"
     ]
    },
    {
     "name": "stdout",
     "output_type": "stream",
     "text": [
      "INFO:tensorflow:Assets written to: ../checkpoints/epoch_0023.ckpt/assets\n"
     ]
    },
    {
     "name": "stderr",
     "output_type": "stream",
     "text": [
      "INFO:tensorflow:Assets written to: ../checkpoints/epoch_0023.ckpt/assets\n"
     ]
    },
    {
     "name": "stdout",
     "output_type": "stream",
     "text": [
      "223/223 [==============================] - 685s 3s/step - loss: 0.0605 - accuracy: 0.9848 - val_loss: 0.3354 - val_accuracy: 0.9172\n",
      "Epoch 24/200\n",
      "223/223 [==============================] - ETA: 0s - loss: 0.0894 - accuracy: 0.9802"
     ]
    },
    {
     "name": "stderr",
     "output_type": "stream",
     "text": [
      "WARNING:absl:Found untraced functions such as _jit_compiled_convolution_op, _jit_compiled_convolution_op, _jit_compiled_convolution_op, _jit_compiled_convolution_op, _jit_compiled_convolution_op while saving (showing 5 of 104). These functions will not be directly callable after loading.\n"
     ]
    },
    {
     "name": "stdout",
     "output_type": "stream",
     "text": [
      "INFO:tensorflow:Assets written to: ../checkpoints/epoch_0024.ckpt/assets\n"
     ]
    },
    {
     "name": "stderr",
     "output_type": "stream",
     "text": [
      "INFO:tensorflow:Assets written to: ../checkpoints/epoch_0024.ckpt/assets\n"
     ]
    },
    {
     "name": "stdout",
     "output_type": "stream",
     "text": [
      "\b\b\b\b\b\b\b\b\b\b\b\b\b\b\b\b\b\b\b\b\b\b\b\b\b\b\b\b\b\b\b\b\b\b\b\b\b\b\b\b\b\b\b\b\b\b\b\b\b\b\b\b\b\b\b\b\b\b\b\b\b\b\b\b\b\b\b\b\b\b\b\b\b\b\b\b\b\b\b\b\b\b\b\b\r",
      "223/223 [==============================] - 682s 3s/step - loss: 0.0894 - accuracy: 0.9802 - val_loss: 1.6827 - val_accuracy: 0.6977\n"
     ]
    }
   ],
   "source": [
    "epochs = 200\n",
    "history = model.fit(\n",
    "    trainGenSet,\n",
    "    epochs=epochs,\n",
    "    validation_data=validationGenSet,\n",
    "    callbacks=[checkpoint,earlyStopping, tensorboard],\n",
    "    verbose=1\n",
    ")"
   ]
  },
  {
   "cell_type": "code",
   "execution_count": 20,
   "metadata": {
    "scrolled": true
   },
   "outputs": [
    {
     "name": "stdout",
     "output_type": "stream",
     "text": [
      "30/30 [==============================] - 67s 2s/step - loss: 1.5783 - accuracy: 0.6846\n",
      "[1.5783251523971558, 0.6846070885658264]\n"
     ]
    }
   ],
   "source": [
    "scores = model.evaluate(testGenSet)\n",
    "print(scores)"
   ]
  },
  {
   "cell_type": "code",
   "execution_count": 21,
   "metadata": {},
   "outputs": [
    {
     "name": "stdout",
     "output_type": "stream",
     "text": [
      "test_loss: 1.5783250331878662 test_accuracy: 0.6846070885658264\n"
     ]
    }
   ],
   "source": [
    "testLoss, testAccuracy = model.evaluate(testGenSet, verbose=0)\n",
    "\n",
    "print(\"test_loss:\", testLoss, \"test_accuracy:\", testAccuracy)"
   ]
  },
  {
   "cell_type": "code",
   "execution_count": 17,
   "metadata": {
    "scrolled": true
   },
   "outputs": [
    {
     "data": {
      "image/png": "[encoded data removed]",
      "text/plain": [
       "<Figure size 432x288 with 2 Axes>"
      ]
     },
     "metadata": {
      "needs_background": "light"
     },
     "output_type": "display_data"
    }
   ],
   "source": [
    "\n",
    "\n",
    "fig, loss_ax = plt.subplots()\n",
    "acc_ax = loss_ax.twinx()\n",
    "\n",
    "loss_ax.plot(history.history['loss'], 'y', label = 'train loss')\n",
    "loss_ax.plot(history.history['val_loss'], 'r', label = 'val loss')\n",
    "acc_ax.plot(history.history['accuracy'], 'b', label = 'train accuracy')\n",
    "acc_ax.plot(history.history['val_accuracy'], 'g', label = 'val accuracy')\n",
    "\n",
    "loss_ax.set_xlabel('epoch')\n",
    "loss_ax.set_ylabel('loss')\n",
    "acc_ax.set_xlabel('accuracy')\n",
    "\n",
    "loss_ax.legend(loc = 'upper left')\n",
    "acc_ax.legend(loc = 'lower left')\n",
    "\n",
    "plt.show()"
   ]
  },
  {
   "cell_type": "code",
   "execution_count": 22,
   "metadata": {},
   "outputs": [
    {
     "data": {
      "image/png": "[encoded data removed]",
      "text/plain": [
       "<Figure size 432x288 with 1 Axes>"
      ]
     },
     "metadata": {
      "needs_background": "light"
     },
     "output_type": "display_data"
    },
    {
     "data": {
      "image/png": "[encoded data removed]",
      "text/plain": [
       "<Figure size 432x288 with 1 Axes>"
      ]
     },
     "metadata": {
      "needs_background": "light"
     },
     "output_type": "display_data"
    }
   ],
   "source": [
    "# 6 훈련 과정 시각화 (정확도)\n",
    "plt.plot(history.history['accuracy'])\n",
    "plt.plot(history.history['val_accuracy'])\n",
    "plt.title('Model accuracy')\n",
    "plt.xlabel('Epoch')\n",
    "plt.ylabel('Accuracy')\n",
    "plt.legend(['Train', 'Test'], loc='upper left')\n",
    "plt.show()\n",
    "\n",
    "# 7 훈련 과정 시각화 (손실)\n",
    "plt.plot(history.history['loss'])\n",
    "plt.plot(history.history['val_loss'])\n",
    "plt.title('Model loss')\n",
    "plt.xlabel('Epoch')\n",
    "plt.ylabel('Loss')\n",
    "plt.ylim([0, 10])\n",
    "plt.legend(['Train', 'Test'], loc='upper left')\n",
    "plt.show()"
   ]
  },
  {
   "cell_type": "code",
   "execution_count": 23,
   "metadata": {},
   "outputs": [
    {
     "name": "stderr",
     "output_type": "stream",
     "text": [
      "WARNING:absl:Found untraced functions such as _jit_compiled_convolution_op, _jit_compiled_convolution_op, _jit_compiled_convolution_op, _jit_compiled_convolution_op, _jit_compiled_convolution_op while saving (showing 5 of 104). These functions will not be directly callable after loading.\n"
     ]
    },
    {
     "name": "stdout",
     "output_type": "stream",
     "text": [
      "INFO:tensorflow:Assets written to: ../model/resnetModel/assets\n"
     ]
    },
    {
     "name": "stderr",
     "output_type": "stream",
     "text": [
      "INFO:tensorflow:Assets written to: ../model/resnetModel/assets\n"
     ]
    }
   ],
   "source": [
    "model.save('../model/resnetModel')"
   ]
  },
  {
   "cell_type": "code",
   "execution_count": 24,
   "metadata": {},
   "outputs": [
    {
     "data": {
      "image/png": "[encoded data removed]",
      "text/plain": [
       "<PIL.Image.Image image mode=RGB size=224x224>"
      ]
     },
     "execution_count": 24,
     "metadata": {},
     "output_type": "execute_result"
    }
   ],
   "source": [
    "testImage = load_img(\"../testImage.jpg\", target_size = (imageHeight, imageWidth))\n",
    "testImage"
   ]
  },
  {
   "cell_type": "code",
   "execution_count": 25,
   "metadata": {},
   "outputs": [
    {
     "name": "stdout",
     "output_type": "stream",
     "text": [
      "[[[0.2627451  0.32941177 0.30588236]\n",
      "  [0.22745098 0.29411766 0.27058825]\n",
      "  [0.28627452 0.34901962 0.34509805]\n",
      "  ...\n",
      "  [0.34117648 0.40784314 0.43529412]\n",
      "  [0.36862746 0.4392157  0.45490196]\n",
      "  [0.36862746 0.44705883 0.4392157 ]]\n",
      "\n",
      " [[0.29411766 0.36078432 0.3372549 ]\n",
      "  [0.20392157 0.27058825 0.24705882]\n",
      "  [0.29803923 0.36078432 0.35686275]\n",
      "  ...\n",
      "  [0.28235295 0.3529412  0.36862746]\n",
      "  [0.32156864 0.39215687 0.4       ]\n",
      "  [0.29803923 0.3764706  0.36862746]]\n",
      "\n",
      " [[0.4        0.46666667 0.44313726]\n",
      "  [0.36862746 0.43529412 0.4117647 ]\n",
      "  [0.43529412 0.49803922 0.49411765]\n",
      "  ...\n",
      "  [0.30588236 0.3764706  0.3764706 ]\n",
      "  [0.28627452 0.36078432 0.3529412 ]\n",
      "  [0.34901962 0.43137255 0.40392157]]\n",
      "\n",
      " ...\n",
      "\n",
      " [[0.18039216 0.2784314  0.16078432]\n",
      "  [0.18039216 0.2784314  0.16078432]\n",
      "  [0.17254902 0.27058825 0.15294118]\n",
      "  ...\n",
      "  [0.5137255  0.56078434 0.40392157]\n",
      "  [0.4862745  0.53333336 0.3764706 ]\n",
      "  [0.49411765 0.5411765  0.4       ]]\n",
      "\n",
      " [[0.14509805 0.24313726 0.1254902 ]\n",
      "  [0.14509805 0.24313726 0.1254902 ]\n",
      "  [0.15294118 0.2509804  0.13333334]\n",
      "  ...\n",
      "  [0.5372549  0.58431375 0.42745098]\n",
      "  [0.50980395 0.5568628  0.4       ]\n",
      "  [0.5058824  0.54509807 0.40784314]]\n",
      "\n",
      " [[0.16470589 0.27058825 0.14117648]\n",
      "  [0.19215687 0.29803923 0.16862746]\n",
      "  [0.1882353  0.29411766 0.16470589]\n",
      "  ...\n",
      "  [0.5803922  0.6392157  0.47843137]\n",
      "  [0.48235294 0.5411765  0.38039216]\n",
      "  [0.48235294 0.5294118  0.37254903]]]\n"
     ]
    }
   ],
   "source": [
    "testImage = img_to_array(testImage)\n",
    "testImage = testImage/255.0\n",
    "\n",
    "print(testImage)"
   ]
  },
  {
   "cell_type": "code",
   "execution_count": 26,
   "metadata": {},
   "outputs": [
    {
     "name": "stdout",
     "output_type": "stream",
     "text": [
      "1/1 [==============================] - 2s 2s/step\n"
     ]
    }
   ],
   "source": [
    "confidence = model.predict(testImage.reshape((1, imageHeight, imageWidth, imageChannel)))"
   ]
  },
  {
   "cell_type": "code",
   "execution_count": 27,
   "metadata": {},
   "outputs": [
    {
     "name": "stdout",
     "output_type": "stream",
     "text": [
      "0 일 확률 = 0.0\n",
      "1 일 확률 = 0.0\n",
      "2 일 확률 = 0.0\n",
      "3 일 확률 = 0.0\n",
      "4 일 확률 = 1.0\n",
      "5 일 확률 = 0.0\n",
      "6 일 확률 = 0.0\n",
      "7 일 확률 = 0.0\n",
      "8 일 확률 = 0.0\n",
      "9 일 확률 = 0.0\n",
      "10 일 확률 = 0.0\n",
      "11 일 확률 = 0.0\n",
      "12 일 확률 = 0.0\n",
      "13 일 확률 = 0.0\n",
      "14 일 확률 = 0.0\n",
      "15 일 확률 = 0.0\n",
      "16 일 확률 = 0.0\n",
      "17 일 확률 = 0.0\n",
      "18 일 확률 = 0.0\n",
      "19 일 확률 = 0.0\n",
      "20 일 확률 = 0.0\n",
      "21 일 확률 = 0.0\n",
      "22 일 확률 = 0.0\n",
      "23 일 확률 = 0.0\n",
      "24 일 확률 = 0.0\n",
      "25 일 확률 = 0.0\n",
      "26 일 확률 = 0.0\n",
      "27 일 확률 = 0.0\n",
      "28 일 확률 = 0.0\n",
      "29 일 확률 = 0.0\n",
      "30 일 확률 = 0.0\n",
      "31 일 확률 = 0.0\n",
      "32 일 확률 = 0.0\n",
      "33 일 확률 = 0.0\n",
      "34 일 확률 = 0.0\n",
      "35 일 확률 = 0.0\n",
      "36 일 확률 = 0.0\n",
      "37 일 확률 = 0.0\n",
      "38 일 확률 = 0.0\n",
      "39 일 확률 = 0.0\n",
      "40 일 확률 = 0.0\n",
      "41 일 확률 = 0.0\n",
      "42 일 확률 = 0.0\n",
      "43 일 확률 = 0.0\n",
      "44 일 확률 = 0.0\n",
      "45 일 확률 = 0.0\n",
      "46 일 확률 = 0.0\n",
      "47 일 확률 = 0.0\n",
      "48 일 확률 = 0.0\n",
      "49 일 확률 = 0.0\n",
      "정답은 : [4]\n"
     ]
    }
   ],
   "source": [
    "for i in range(confidence.shape[1]):\n",
    "    print(f\"{i} 일 확률 = {round(confidence[0][i], 3)}\")\n",
    "\n",
    "print(f\"정답은 : {np.argmax(confidence, axis=1)}\")"
   ]
  },
  {
   "cell_type": "code",
   "execution_count": 28,
   "metadata": {},
   "outputs": [
    {
     "data": {
      "text/html": [
       "<div>\n",
       "<style scoped>\n",
       "    .dataframe tbody tr th:only-of-type {\n",
       "        vertical-align: middle;\n",
       "    }\n",
       "\n",
       "    .dataframe tbody tr th {\n",
       "        vertical-align: top;\n",
       "    }\n",
       "\n",
       "    .dataframe thead th {\n",
       "        text-align: right;\n",
       "    }\n",
       "</style>\n",
       "<table border=\"1\" class=\"dataframe\">\n",
       "  <thead>\n",
       "    <tr style=\"text-align: right;\">\n",
       "      <th></th>\n",
       "      <th>Unnamed: 0</th>\n",
       "      <th>bBoxW</th>\n",
       "      <th>bBoxH</th>\n",
       "      <th>bBoxX</th>\n",
       "      <th>width</th>\n",
       "      <th>height</th>\n",
       "      <th>categoryId</th>\n",
       "      <th>bBoxY</th>\n",
       "      <th>fileName</th>\n",
       "      <th>categoryName</th>\n",
       "    </tr>\n",
       "  </thead>\n",
       "  <tbody>\n",
       "    <tr>\n",
       "      <th>0</th>\n",
       "      <td>0</td>\n",
       "      <td>4000.0</td>\n",
       "      <td>2252.0</td>\n",
       "      <td>0.0</td>\n",
       "      <td>4000</td>\n",
       "      <td>2252</td>\n",
       "      <td>20813</td>\n",
       "      <td>0.0</td>\n",
       "      <td>검멀레동굴 _066_42469394.jpg</td>\n",
       "      <td>검멀레동굴</td>\n",
       "    </tr>\n",
       "    <tr>\n",
       "      <th>1</th>\n",
       "      <td>1</td>\n",
       "      <td>4000.0</td>\n",
       "      <td>2252.0</td>\n",
       "      <td>0.0</td>\n",
       "      <td>4000</td>\n",
       "      <td>2252</td>\n",
       "      <td>20813</td>\n",
       "      <td>0.0</td>\n",
       "      <td>검멀레동굴 _067_42469395.jpg</td>\n",
       "      <td>검멀레동굴</td>\n",
       "    </tr>\n",
       "    <tr>\n",
       "      <th>2</th>\n",
       "      <td>2</td>\n",
       "      <td>4000.0</td>\n",
       "      <td>2252.0</td>\n",
       "      <td>0.0</td>\n",
       "      <td>4000</td>\n",
       "      <td>2252</td>\n",
       "      <td>20813</td>\n",
       "      <td>0.0</td>\n",
       "      <td>검멀레동굴 _068_42469396.jpg</td>\n",
       "      <td>검멀레동굴</td>\n",
       "    </tr>\n",
       "    <tr>\n",
       "      <th>3</th>\n",
       "      <td>3</td>\n",
       "      <td>4000.0</td>\n",
       "      <td>2252.0</td>\n",
       "      <td>0.0</td>\n",
       "      <td>4000</td>\n",
       "      <td>2252</td>\n",
       "      <td>20813</td>\n",
       "      <td>0.0</td>\n",
       "      <td>검멀레동굴 _104_42469397.jpg</td>\n",
       "      <td>검멀레동굴</td>\n",
       "    </tr>\n",
       "    <tr>\n",
       "      <th>4</th>\n",
       "      <td>4</td>\n",
       "      <td>4000.0</td>\n",
       "      <td>2252.0</td>\n",
       "      <td>0.0</td>\n",
       "      <td>4000</td>\n",
       "      <td>2252</td>\n",
       "      <td>20813</td>\n",
       "      <td>0.0</td>\n",
       "      <td>검멀레동굴 _106_42469399.jpg</td>\n",
       "      <td>검멀레동굴</td>\n",
       "    </tr>\n",
       "  </tbody>\n",
       "</table>\n",
       "</div>"
      ],
      "text/plain": [
       "   Unnamed: 0   bBoxW   bBoxH  bBoxX  width  height  categoryId  bBoxY  \\\n",
       "0           0  4000.0  2252.0    0.0   4000    2252       20813    0.0   \n",
       "1           1  4000.0  2252.0    0.0   4000    2252       20813    0.0   \n",
       "2           2  4000.0  2252.0    0.0   4000    2252       20813    0.0   \n",
       "3           3  4000.0  2252.0    0.0   4000    2252       20813    0.0   \n",
       "4           4  4000.0  2252.0    0.0   4000    2252       20813    0.0   \n",
       "\n",
       "                  fileName categoryName  \n",
       "0  검멀레동굴 _066_42469394.jpg        검멀레동굴  \n",
       "1  검멀레동굴 _067_42469395.jpg        검멀레동굴  \n",
       "2  검멀레동굴 _068_42469396.jpg        검멀레동굴  \n",
       "3  검멀레동굴 _104_42469397.jpg        검멀레동굴  \n",
       "4  검멀레동굴 _106_42469399.jpg        검멀레동굴  "
      ]
     },
     "execution_count": 28,
     "metadata": {},
     "output_type": "execute_result"
    }
   ],
   "source": [
    "dfTrain = pd.read_csv('../labelsCsv/trainLabels.csv')\n",
    "dfTrain.head()"
   ]
  },
  {
   "cell_type": "code",
   "execution_count": 29,
   "metadata": {
    "scrolled": true
   },
   "outputs": [
    {
     "data": {
      "text/plain": [
       "'김녕성세기해변(김녕해수욕장)'"
      ]
     },
     "execution_count": 29,
     "metadata": {},
     "output_type": "execute_result"
    }
   ],
   "source": [
    "dfTrain['categoryName'].unique()[np.argmax(confidence, axis=1)][0]"
   ]
  },
  {
   "cell_type": "code",
   "execution_count": 30,
   "metadata": {},
   "outputs": [
    {
     "data": {
      "text/plain": [
       "'김녕미로공원'"
      ]
     },
     "execution_count": 30,
     "metadata": {},
     "output_type": "execute_result"
    }
   ],
   "source": [
    "dfTrain['categoryName'].unique()[3]"
   ]
  },
  {
   "cell_type": "code",
   "execution_count": null,
   "metadata": {},
   "outputs": [],
   "source": []
  }
 ],
 "metadata": {
  "interpreter": {
   "hash": "9695e1afe6bd24ab3d12bcdaf245765a6ca7df3556ff5963a8b1ba99ba27e5c0"
  },
  "kernelspec": {
   "display_name": "Python 3 (ipykernel)",
   "language": "python",
   "name": "python3"
  },
  "language_info": {
   "codemirror_mode": {
    "name": "ipython",
    "version": 3
   },
   "file_extension": ".py",
   "mimetype": "text/x-python",
   "name": "python",
   "nbconvert_exporter": "python",
   "pygments_lexer": "ipython3",
   "version": "3.8.10"
  }
 },
 "nbformat": 4,
 "nbformat_minor": 2
}
