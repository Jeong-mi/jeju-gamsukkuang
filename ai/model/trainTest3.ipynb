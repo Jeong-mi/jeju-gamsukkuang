{
 "cells": [
  {
   "cell_type": "markdown",
   "metadata": {},
   "source": [
    "## ResNet50 + ArcFace"
   ]
  },
  {
   "cell_type": "code",
   "execution_count": 1,
   "metadata": {},
   "outputs": [],
   "source": [
    "from keras.preprocessing.image import ImageDataGenerator\n",
    "\n",
    "\n",
    "from keras.utils import np_utils\n",
    "from keras.models import Sequential\n",
    "from keras.layers import *\n",
    "from keras.callbacks import ModelCheckpoint, EarlyStopping\n",
    "from tensorflow.keras.applications import ResNet50\n",
    "\n",
    "import os\n",
    "import pandas as pd\n",
    "import numpy as np\n",
    "\n",
    "import matplotlib.pyplot as plt\n",
    "\n",
    "import datetime\n",
    "import math\n",
    "\n",
    "from sklearn.metrics import accuracy_score"
   ]
  },
  {
   "cell_type": "code",
   "execution_count": 2,
   "metadata": {},
   "outputs": [],
   "source": [
    "trainImagePath = '../dataSet/splitImages/train'\n",
    "validationImagePath = '../dataSet/splitImages/val'\n",
    "testImagePath = '../dataSet/splitImages/test'\n",
    "checkpointPath = '../checkpoints/epoch_{epoch:04d}.ckpt'\n",
    "logsPath = '../logs/fit/'+datetime.datetime.now().strftime(\"%Y%m%d-%H%M%S\")\n",
    "bestCheckpointPath = '../model/best/best_model'\n",
    "\n",
    "batchSize = 32\n",
    "imageWidth = 224\n",
    "imageHeight = 224\n",
    "imageChannel = 3\n",
    "input_shape = (imageWidth, imageHeight, imageChannel)\n",
    "n_classes = 44\n",
    "scale = 30\n",
    "margin = 0.3\n",
    "dropout_rate = 0.0\n",
    "dense_units=512\n",
    "\n"
   ]
  },
  {
   "cell_type": "code",
   "execution_count": 3,
   "metadata": {},
   "outputs": [],
   "source": [
    "class ArcMarginProduct(tf.keras.layers.Layer):\n",
    "    '''\n",
    "    Implements large margin arc distance.\n",
    "\n",
    "    Reference:\n",
    "        https://arxiv.org/pdf/1801.07698.pdf\n",
    "        https://github.com/lyakaap/Landmark2019-1st-and-3rd-Place-Solution/\n",
    "            blob/master/src/modeling/metric_learning.py\n",
    "    '''\n",
    "    def __init__(self, n_classes, s=30, m=0.50, easy_margin=False,\n",
    "                 ls_eps=0.0, **kwargs):\n",
    "\n",
    "        super(ArcMarginProduct, self).__init__(**kwargs)\n",
    "\n",
    "        self.n_classes = n_classes\n",
    "        self.s = s\n",
    "        self.m = m\n",
    "        self.ls_eps = ls_eps\n",
    "        self.easy_margin = easy_margin\n",
    "        self.cos_m = tf.math.cos(m)\n",
    "        self.sin_m = tf.math.sin(m)\n",
    "        self.th = tf.math.cos(math.pi - m)\n",
    "        self.mm = tf.math.sin(math.pi - m) * m\n",
    "\n",
    "    def build(self, input_shape):\n",
    "        super(ArcMarginProduct, self).build(input_shape[0])\n",
    "\n",
    "        self.W = self.add_weight(\n",
    "            name='W',\n",
    "            shape=(int(input_shape[0][-1]), self.n_classes),\n",
    "            initializer='glorot_uniform',\n",
    "            dtype='float32',\n",
    "            trainable=True,\n",
    "            regularizer=None)\n",
    "\n",
    "    def call(self, inputs):\n",
    "        X, y = inputs\n",
    "        y = tf.cast(y, dtype=tf.int32)\n",
    "        cosine = tf.matmul(\n",
    "            tf.math.l2_normalize(X, axis=1),\n",
    "            tf.math.l2_normalize(self.W, axis=0)\n",
    "        )\n",
    "        sine = tf.math.sqrt(1.0 - tf.math.pow(cosine, 2))\n",
    "        phi = cosine * self.cos_m - sine * self.sin_m\n",
    "        if self.easy_margin:\n",
    "            phi = tf.where(cosine > 0, phi, cosine)\n",
    "        else:\n",
    "            phi = tf.where(cosine > self.th, phi, cosine - self.mm)\n",
    "        one_hot = tf.cast(\n",
    "            tf.one_hot(y, depth=self.n_classes),\n",
    "            dtype=cosine.dtype\n",
    "        )\n",
    "        if self.ls_eps > 0:\n",
    "            one_hot = (1 - self.ls_eps) * one_hot + self.ls_eps / self.n_classes\n",
    "\n",
    "        output = (one_hot * phi) + ((1.0 - one_hot) * cosine)\n",
    "        output *= self.s\n",
    "        return output"
   ]
  },
  {
   "cell_type": "markdown",
   "metadata": {},
   "source": [
    "### 이미지 데이터 생성"
   ]
  },
  {
   "cell_type": "markdown",
   "metadata": {},
   "source": [
    "ImageDataGenerator (train, validation)"
   ]
  },
  {
   "cell_type": "code",
   "execution_count": 4,
   "metadata": {},
   "outputs": [],
   "source": [
    "trainDataGen = ImageDataGenerator(rescale=1./255,\n",
    "                                  rotation_range = 30,\n",
    "                                  width_shift_range=0.1,\n",
    "                                  height_shift_range=0.1,\n",
    "                                  shear_range=20,\n",
    "                                  zoom_range=0.3,\n",
    "                                  horizontal_flip=False,\n",
    "                                  vertical_flip=False,\n",
    "                                  brightness_range=[0.7, 1.3],\n",
    "                                  fill_mode='nearest',\n",
    "                                  )"
   ]
  },
  {
   "cell_type": "markdown",
   "metadata": {},
   "source": [
    "train set"
   ]
  },
  {
   "cell_type": "code",
   "execution_count": 5,
   "metadata": {},
   "outputs": [
    {
     "name": "stdout",
     "output_type": "stream",
     "text": [
      "Found 5601 images belonging to 44 classes.\n"
     ]
    }
   ],
   "source": [
    "trainGenSet = trainDataGen.flow_from_directory(\n",
    "    trainImagePath,\n",
    "    batch_size=batchSize,\n",
    "    target_size=(imageWidth,imageHeight),\n",
    "    class_mode='categorical',\n",
    "    shuffle=True\n",
    ")"
   ]
  },
  {
   "cell_type": "markdown",
   "metadata": {},
   "source": [
    "validation set"
   ]
  },
  {
   "cell_type": "code",
   "execution_count": 6,
   "metadata": {},
   "outputs": [
    {
     "name": "stdout",
     "output_type": "stream",
     "text": [
      "Found 681 images belonging to 44 classes.\n"
     ]
    }
   ],
   "source": [
    "validationGenSet = trainDataGen.flow_from_directory(\n",
    "    validationImagePath,\n",
    "    batch_size=batchSize,\n",
    "    target_size=(imageWidth,imageHeight),\n",
    "    class_mode='categorical'\n",
    ")"
   ]
  },
  {
   "cell_type": "markdown",
   "metadata": {},
   "source": [
    "ImageDataGenerator (train, validation)"
   ]
  },
  {
   "cell_type": "code",
   "execution_count": 7,
   "metadata": {},
   "outputs": [],
   "source": [
    "testDataGen = ImageDataGenerator(rescale=1./255)"
   ]
  },
  {
   "cell_type": "markdown",
   "metadata": {},
   "source": [
    "test set"
   ]
  },
  {
   "cell_type": "code",
   "execution_count": 8,
   "metadata": {},
   "outputs": [
    {
     "name": "stdout",
     "output_type": "stream",
     "text": [
      "Found 739 images belonging to 44 classes.\n"
     ]
    }
   ],
   "source": [
    "testGenSet = testDataGen.flow_from_directory(\n",
    "    testImagePath,\n",
    "    batch_size=batchSize,\n",
    "    target_size=(imageWidth,imageHeight),\n",
    "    class_mode='categorical'\n",
    ")"
   ]
  },
  {
   "cell_type": "code",
   "execution_count": 9,
   "metadata": {},
   "outputs": [
    {
     "name": "stdout",
     "output_type": "stream",
     "text": [
      "Model: \"model\"\n",
      "__________________________________________________________________________________________________\n",
      " Layer (type)                   Output Shape         Param #     Connected to                     \n",
      "==================================================================================================\n",
      " inp1 (InputLayer)              [(None, 224, 224, 3  0           []                               \n",
      "                                )]                                                                \n",
      "                                                                                                  \n",
      " resnet50 (Functional)          (None, 7, 7, 2048)   23587712    ['inp1[0][0]']                   \n",
      "                                                                                                  \n",
      " global_average_pooling2d (Glob  (None, 2048)        0           ['resnet50[0][0]']               \n",
      " alAveragePooling2D)                                                                              \n",
      "                                                                                                  \n",
      " inp2 (InputLayer)              [(None,)]            0           []                               \n",
      "                                                                                                  \n",
      " head/arc_margin (ArcMarginProd  (None, 44)          90112       ['global_average_pooling2d[0][0]'\n",
      " uct)                                                            , 'inp2[0][0]']                  \n",
      "                                                                                                  \n",
      " softmax (Softmax)              (None, 44)           0           ['head/arc_margin[0][0]']        \n",
      "                                                                                                  \n",
      "==================================================================================================\n",
      "Total params: 23,677,824\n",
      "Trainable params: 23,624,704\n",
      "Non-trainable params: 53,120\n",
      "__________________________________________________________________________________________________\n"
     ]
    }
   ],
   "source": [
    "backbone = tf.keras.applications.ResNet50(\n",
    "        include_top=False,\n",
    "        input_shape=input_shape,\n",
    "        weights=('imagenet')\n",
    "    )\n",
    "\n",
    "margin = ArcMarginProduct(\n",
    "            n_classes = n_classes, \n",
    "            s = 30, \n",
    "            m = 0.5, \n",
    "            name='head/arc_margin', \n",
    "            dtype='float32'\n",
    "            )\n",
    "\n",
    "inp = tf.keras.layers.Input(shape = input_shape, name = 'inp1')\n",
    "label = tf.keras.layers.Input(shape = (), name = 'inp2')\n",
    "x = backbone(inp)\n",
    "x = tf.keras.layers.GlobalAveragePooling2D()(x)\n",
    "x = margin([x, label])\n",
    "\n",
    "output = tf.keras.layers.Softmax(dtype='float32')(x)\n",
    "\n",
    "model = tf.keras.models.Model(inputs = [inp, label], outputs = [output])\n",
    "\n",
    "model.summary()"
   ]
  },
  {
   "cell_type": "code",
   "execution_count": 10,
   "metadata": {},
   "outputs": [],
   "source": [
    "model.compile(loss='categorical_crossentropy',\n",
    "             optimizer='adam',\n",
    "             metrics=['accuracy'])"
   ]
  },
  {
   "cell_type": "code",
   "execution_count": 11,
   "metadata": {},
   "outputs": [],
   "source": [
    "checkpointPath = '../checkpoints/epoch_{epoch:04d}.ckpt'"
   ]
  },
  {
   "cell_type": "code",
   "execution_count": 12,
   "metadata": {},
   "outputs": [],
   "source": [
    "checkpoint = ModelCheckpoint(\n",
    "                        checkpointPath, monitor='val_loss', verbose=0, save_best_only=False,\n",
    "                        save_weights_only=False, mode='auto', save_freq='epoch'\n",
    "                    )\n"
   ]
  },
  {
   "cell_type": "code",
   "execution_count": 13,
   "metadata": {},
   "outputs": [],
   "source": [
    "earlyStopping = [\n",
    "                    EarlyStopping(monitor='val_loss', patience=10, ),\n",
    "                    ModelCheckpoint( bestCheckpointPath, monitor='val_loss', save_best_only=True )\n",
    "                ]"
   ]
  },
  {
   "cell_type": "code",
   "execution_count": 14,
   "metadata": {},
   "outputs": [],
   "source": [
    "tensorboard = tf.keras.callbacks.TensorBoard(logsPath, histogram_freq=1)"
   ]
  },
  {
   "cell_type": "code",
   "execution_count": 23,
   "metadata": {},
   "outputs": [
    {
     "data": {
      "text/plain": [
       "<keras.preprocessing.image.DirectoryIterator at 0x20cd3135060>"
      ]
     },
     "execution_count": 23,
     "metadata": {},
     "output_type": "execute_result"
    }
   ],
   "source": [
    "validationGenSet"
   ]
  },
  {
   "cell_type": "code",
   "execution_count": 16,
   "metadata": {},
   "outputs": [
    {
     "name": "stdout",
     "output_type": "stream",
     "text": [
      "WARNING:tensorflow:Model failed to serialize as JSON. Ignoring... \n",
      "Layer ArcMarginProduct has arguments ['self', 'n_classes', 's', 'm', 'easy_margin', 'ls_eps']\n",
      "in `__init__` and therefore must override `get_config()`.\n",
      "\n",
      "Example:\n",
      "\n",
      "class CustomLayer(keras.layers.Layer):\n",
      "    def __init__(self, arg1, arg2):\n",
      "        super().__init__()\n",
      "        self.arg1 = arg1\n",
      "        self.arg2 = arg2\n",
      "\n",
      "    def get_config(self):\n",
      "        config = super().get_config()\n",
      "        config.update({\n",
      "            \"arg1\": self.arg1,\n",
      "            \"arg2\": self.arg2,\n",
      "        })\n",
      "        return config\n",
      "Epoch 1/200\n"
     ]
    },
    {
     "ename": "ValueError",
     "evalue": "in user code:\n\n    File \"c:\\Users\\nhs04\\OneDrive\\문서\\elice AI 트랙\\3차 project\\team8\\ai\\aiWebProject\\lib\\site-packages\\keras\\engine\\training.py\", line 1051, in train_function  *\n        return step_function(self, iterator)\n    File \"c:\\Users\\nhs04\\OneDrive\\문서\\elice AI 트랙\\3차 project\\team8\\ai\\aiWebProject\\lib\\site-packages\\keras\\engine\\training.py\", line 1040, in step_function  **\n        outputs = model.distribute_strategy.run(run_step, args=(data,))\n    File \"c:\\Users\\nhs04\\OneDrive\\문서\\elice AI 트랙\\3차 project\\team8\\ai\\aiWebProject\\lib\\site-packages\\keras\\engine\\training.py\", line 1030, in run_step  **\n        outputs = model.train_step(data)\n    File \"c:\\Users\\nhs04\\OneDrive\\문서\\elice AI 트랙\\3차 project\\team8\\ai\\aiWebProject\\lib\\site-packages\\keras\\engine\\training.py\", line 889, in train_step\n        y_pred = self(x, training=True)\n    File \"c:\\Users\\nhs04\\OneDrive\\문서\\elice AI 트랙\\3차 project\\team8\\ai\\aiWebProject\\lib\\site-packages\\keras\\utils\\traceback_utils.py\", line 67, in error_handler\n        raise e.with_traceback(filtered_tb) from None\n    File \"c:\\Users\\nhs04\\OneDrive\\문서\\elice AI 트랙\\3차 project\\team8\\ai\\aiWebProject\\lib\\site-packages\\keras\\engine\\input_spec.py\", line 200, in assert_input_compatibility\n        raise ValueError(f'Layer \"{layer_name}\" expects {len(input_spec)} input(s),'\n\n    ValueError: Layer \"model\" expects 2 input(s), but it received 1 input tensors. Inputs received: [<tf.Tensor 'IteratorGetNext:0' shape=(None, None, None, None) dtype=float32>]\n",
     "output_type": "error",
     "traceback": [
      "\u001b[1;31m---------------------------------------------------------------------------\u001b[0m",
      "\u001b[1;31mValueError\u001b[0m                                Traceback (most recent call last)",
      "\u001b[1;32mc:\\Users\\nhs04\\OneDrive\\문서\\elice AI 트랙\\3차 project\\team8\\ai\\model\\trainTest3.ipynb Cell 23'\u001b[0m in \u001b[0;36m<cell line: 2>\u001b[1;34m()\u001b[0m\n\u001b[0;32m      <a href='vscode-notebook-cell:/c%3A/Users/nhs04/OneDrive/%EB%AC%B8%EC%84%9C/elice%20AI%20%ED%8A%B8%EB%9E%99/3%EC%B0%A8%20project/team8/ai/model/trainTest3.ipynb#ch0000018?line=0'>1</a>\u001b[0m epochs \u001b[39m=\u001b[39m \u001b[39m200\u001b[39m\n\u001b[1;32m----> <a href='vscode-notebook-cell:/c%3A/Users/nhs04/OneDrive/%EB%AC%B8%EC%84%9C/elice%20AI%20%ED%8A%B8%EB%9E%99/3%EC%B0%A8%20project/team8/ai/model/trainTest3.ipynb#ch0000018?line=1'>2</a>\u001b[0m history \u001b[39m=\u001b[39m model\u001b[39m.\u001b[39;49mfit(\n\u001b[0;32m      <a href='vscode-notebook-cell:/c%3A/Users/nhs04/OneDrive/%EB%AC%B8%EC%84%9C/elice%20AI%20%ED%8A%B8%EB%9E%99/3%EC%B0%A8%20project/team8/ai/model/trainTest3.ipynb#ch0000018?line=2'>3</a>\u001b[0m     trainGenSet,\n\u001b[0;32m      <a href='vscode-notebook-cell:/c%3A/Users/nhs04/OneDrive/%EB%AC%B8%EC%84%9C/elice%20AI%20%ED%8A%B8%EB%9E%99/3%EC%B0%A8%20project/team8/ai/model/trainTest3.ipynb#ch0000018?line=3'>4</a>\u001b[0m     epochs\u001b[39m=\u001b[39;49mepochs,\n\u001b[0;32m      <a href='vscode-notebook-cell:/c%3A/Users/nhs04/OneDrive/%EB%AC%B8%EC%84%9C/elice%20AI%20%ED%8A%B8%EB%9E%99/3%EC%B0%A8%20project/team8/ai/model/trainTest3.ipynb#ch0000018?line=4'>5</a>\u001b[0m     \u001b[39m# validation_data=validationGenSet,\u001b[39;49;00m\n\u001b[0;32m      <a href='vscode-notebook-cell:/c%3A/Users/nhs04/OneDrive/%EB%AC%B8%EC%84%9C/elice%20AI%20%ED%8A%B8%EB%9E%99/3%EC%B0%A8%20project/team8/ai/model/trainTest3.ipynb#ch0000018?line=5'>6</a>\u001b[0m     callbacks\u001b[39m=\u001b[39;49m[checkpoint,earlyStopping, tensorboard],\n\u001b[0;32m      <a href='vscode-notebook-cell:/c%3A/Users/nhs04/OneDrive/%EB%AC%B8%EC%84%9C/elice%20AI%20%ED%8A%B8%EB%9E%99/3%EC%B0%A8%20project/team8/ai/model/trainTest3.ipynb#ch0000018?line=6'>7</a>\u001b[0m     verbose\u001b[39m=\u001b[39;49m\u001b[39m1\u001b[39;49m\n\u001b[0;32m      <a href='vscode-notebook-cell:/c%3A/Users/nhs04/OneDrive/%EB%AC%B8%EC%84%9C/elice%20AI%20%ED%8A%B8%EB%9E%99/3%EC%B0%A8%20project/team8/ai/model/trainTest3.ipynb#ch0000018?line=7'>8</a>\u001b[0m )\n",
      "File \u001b[1;32mc:\\Users\\nhs04\\OneDrive\\문서\\elice AI 트랙\\3차 project\\team8\\ai\\aiWebProject\\lib\\site-packages\\keras\\utils\\traceback_utils.py:67\u001b[0m, in \u001b[0;36mfilter_traceback.<locals>.error_handler\u001b[1;34m(*args, **kwargs)\u001b[0m\n\u001b[0;32m     65\u001b[0m \u001b[39mexcept\u001b[39;00m \u001b[39mException\u001b[39;00m \u001b[39mas\u001b[39;00m e:  \u001b[39m# pylint: disable=broad-except\u001b[39;00m\n\u001b[0;32m     66\u001b[0m   filtered_tb \u001b[39m=\u001b[39m _process_traceback_frames(e\u001b[39m.\u001b[39m__traceback__)\n\u001b[1;32m---> 67\u001b[0m   \u001b[39mraise\u001b[39;00m e\u001b[39m.\u001b[39mwith_traceback(filtered_tb) \u001b[39mfrom\u001b[39;00m \u001b[39mNone\u001b[39m\n\u001b[0;32m     68\u001b[0m \u001b[39mfinally\u001b[39;00m:\n\u001b[0;32m     69\u001b[0m   \u001b[39mdel\u001b[39;00m filtered_tb\n",
      "File \u001b[1;32m~\\AppData\\Local\\Temp\\__autograph_generated_filezcq7o2l4.py:15\u001b[0m, in \u001b[0;36mouter_factory.<locals>.inner_factory.<locals>.tf__train_function\u001b[1;34m(iterator)\u001b[0m\n\u001b[0;32m     13\u001b[0m \u001b[39mtry\u001b[39;00m:\n\u001b[0;32m     14\u001b[0m     do_return \u001b[39m=\u001b[39m \u001b[39mTrue\u001b[39;00m\n\u001b[1;32m---> 15\u001b[0m     retval_ \u001b[39m=\u001b[39m ag__\u001b[39m.\u001b[39mconverted_call(ag__\u001b[39m.\u001b[39mld(step_function), (ag__\u001b[39m.\u001b[39mld(\u001b[39mself\u001b[39m), ag__\u001b[39m.\u001b[39mld(iterator)), \u001b[39mNone\u001b[39;00m, fscope)\n\u001b[0;32m     16\u001b[0m \u001b[39mexcept\u001b[39;00m:\n\u001b[0;32m     17\u001b[0m     do_return \u001b[39m=\u001b[39m \u001b[39mFalse\u001b[39;00m\n",
      "\u001b[1;31mValueError\u001b[0m: in user code:\n\n    File \"c:\\Users\\nhs04\\OneDrive\\문서\\elice AI 트랙\\3차 project\\team8\\ai\\aiWebProject\\lib\\site-packages\\keras\\engine\\training.py\", line 1051, in train_function  *\n        return step_function(self, iterator)\n    File \"c:\\Users\\nhs04\\OneDrive\\문서\\elice AI 트랙\\3차 project\\team8\\ai\\aiWebProject\\lib\\site-packages\\keras\\engine\\training.py\", line 1040, in step_function  **\n        outputs = model.distribute_strategy.run(run_step, args=(data,))\n    File \"c:\\Users\\nhs04\\OneDrive\\문서\\elice AI 트랙\\3차 project\\team8\\ai\\aiWebProject\\lib\\site-packages\\keras\\engine\\training.py\", line 1030, in run_step  **\n        outputs = model.train_step(data)\n    File \"c:\\Users\\nhs04\\OneDrive\\문서\\elice AI 트랙\\3차 project\\team8\\ai\\aiWebProject\\lib\\site-packages\\keras\\engine\\training.py\", line 889, in train_step\n        y_pred = self(x, training=True)\n    File \"c:\\Users\\nhs04\\OneDrive\\문서\\elice AI 트랙\\3차 project\\team8\\ai\\aiWebProject\\lib\\site-packages\\keras\\utils\\traceback_utils.py\", line 67, in error_handler\n        raise e.with_traceback(filtered_tb) from None\n    File \"c:\\Users\\nhs04\\OneDrive\\문서\\elice AI 트랙\\3차 project\\team8\\ai\\aiWebProject\\lib\\site-packages\\keras\\engine\\input_spec.py\", line 200, in assert_input_compatibility\n        raise ValueError(f'Layer \"{layer_name}\" expects {len(input_spec)} input(s),'\n\n    ValueError: Layer \"model\" expects 2 input(s), but it received 1 input tensors. Inputs received: [<tf.Tensor 'IteratorGetNext:0' shape=(None, None, None, None) dtype=float32>]\n"
     ]
    }
   ],
   "source": [
    "epochs = 200\n",
    "history = model.fit(\n",
    "    trainGenSet,\n",
    "    epochs=epochs,\n",
    "    # validation_data=validationGenSet,\n",
    "    callbacks=[checkpoint,earlyStopping, tensorboard],\n",
    "    verbose=1\n",
    ")"
   ]
  },
  {
   "cell_type": "code",
   "execution_count": null,
   "metadata": {},
   "outputs": [],
   "source": [
    "scores = model.evaluate(testGenSet)\n",
    "print(scores)"
   ]
  },
  {
   "cell_type": "code",
   "execution_count": null,
   "metadata": {},
   "outputs": [],
   "source": [
    "%matplotlib inline\n",
    "import matplotlib.pyplot as plt\n",
    "\n",
    "fig, loss_ax = plt.subplots()\n",
    "acc_ax = loss_ax.twinx()\n",
    "\n",
    "loss_ax.plot(history.history['loss'], 'y', label = 'train loss')\n",
    "loss_ax.plot(history.history['val_loss'], 'r', label = 'val loss')\n",
    "acc_ax.plot(history.history['accuracy'], 'b', label = 'train accuracy')\n",
    "acc_ax.plot(history.history['val_accuracy'], 'g', label = 'val accuracy')\n",
    "\n",
    "loss_ax.set_xlabel('epoch')\n",
    "loss_ax.set_ylabel('loss')\n",
    "acc_ax.set_xlabel('accuracy')\n",
    "\n",
    "loss_ax.legend(loc = 'upper left')\n",
    "acc_ax.legend(loc = 'lower left')\n",
    "\n",
    "plt.show()"
   ]
  },
  {
   "cell_type": "code",
   "execution_count": null,
   "metadata": {},
   "outputs": [],
   "source": [
    "model.save('../model/resnetModel')"
   ]
  }
 ],
 "metadata": {
  "interpreter": {
   "hash": "9695e1afe6bd24ab3d12bcdaf245765a6ca7df3556ff5963a8b1ba99ba27e5c0"
  },
  "kernelspec": {
   "display_name": "Python 3.10.2 ('aiWebProject': venv)",
   "language": "python",
   "name": "python3"
  },
  "language_info": {
   "codemirror_mode": {
    "name": "ipython",
    "version": 3
   },
   "file_extension": ".py",
   "mimetype": "text/x-python",
   "name": "python",
   "nbconvert_exporter": "python",
   "pygments_lexer": "ipython3",
   "version": "3.10.2"
  },
  "orig_nbformat": 4
 },
 "nbformat": 4,
 "nbformat_minor": 2
}
